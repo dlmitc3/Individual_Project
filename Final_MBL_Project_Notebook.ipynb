{
 "cells": [
  {
   "cell_type": "markdown",
   "id": "e7b96026",
   "metadata": {},
   "source": [
    "#  2021 Major League Baseball (MLB) Prediction and Outcomes"
   ]
  },
  {
   "cell_type": "markdown",
   "id": "e3640296",
   "metadata": {},
   "source": [
    "![mlblogo](https://user-images.githubusercontent.com/102172479/177244878-86154579-aab4-4680-befb-6d8ce1bb0dbe.png)\n"
   ]
  },
  {
   "cell_type": "markdown",
   "id": "94c5e4cd",
   "metadata": {},
   "source": [
    "# Executive Summary\n",
    "\n",
    "### Overview:\n",
    "\n",
    "Baseball - A game played between two teams of nine players each on a field with four bases laid out in a diamond with a bat, a ball, and gloves trying to either score the most runs or stop the other team from scoring for the duration of nine innings.\n",
    "\n",
    "Professional baseball in the US, or Major League Baseball, is comprised of 30 teams that play 162 baseball games every year. Official game statistics are kept for every game and have been kept since the mid-1800s. With so much data and statistics, fans and team managers have the opportunity to look back and better understand the game. The understanding and analysis of baseball data can help differentiate the performance of a better performing baseball player or a better performing baseball club.\n",
    "\n",
    "As a long time fan of baseball having grown up with a family of baseball players and fans, I chose to use MLB data for my individual project.\n",
    "\n",
    "In this project, I seek to better understand the game of baseball and to forecast MLB game outcomes by creating machine learning models. I will create a classification model that will try to predict whether a team will win or lose a game and a linear regresssion model that will try to predict the number of runs in a game using hitting data for games that were already played. I also seek to determine what drivers are indicators of a win and scoring.\n",
    "\n",
    "### Project Goals:\n",
    "\n",
    "- Use MLB baseball hitting data for all 30 teams for the 2021 season\n",
    "- Create a classification model to predict whether a MLB team will win or lose a game\n",
    "- Find drivers of a winning game\n",
    "- Create a regression model to predict the number of runs scored in a baseball game\n",
    "- Find drivers of runs scored\n",
    "\n",
    "### Outline of Process:\n",
    "\n",
    "The plan for this project is to do the following:\n",
    "    - Acquire Major League Baseball hitting data for 2021 season from baseball-reference.com.\n",
    "    - Prepare data by dropping columns, renaming columns, handling null values and creating new columns.\n",
    "    - Explore data by visualizing data and running hypothesis tests on key features.\n",
    "    - Create machine learning models to predict wins and number of runs scored per game.\n",
    "    - Test best performing model on out of sample data to evaluate performance\n",
    "\n",
    "### Conclusion & Key Findings:\n",
    "\n",
    "I was able to create a machine learning model using classification algorithms to predict whether a team would win or lose a game using a team's previous three games average hitting statistics. I was also able to create a regression model to predict the number of runs a team would have in a game using the team's previous three games average hitting statistics.\n",
    "\n",
    "- Our model was able to predict a baseball games outcome with an accuracy of 58% on out of sample data beating the baseline of 50%.\n",
    "\n",
    "- Our model for predicting the number of runs a baseball team scored also performed better than the baseline accounting for a 35% improvement over the baseline error.\n",
    "\n",
    "- While not a significant advantage over the baseline, these models may help give a baseball club, a person or group trying their hands at odds, or simply a baseball fan an edge in trying to predict the outcome of a game they follow.\n",
    "\n",
    "- The top features used in our model included the 3 game rolling averages per team of:\n",
    "\n",
    "    - RBIs, runs, hits, homeruns, plate appearances, doubles, walks in a game\n",
    "\n",
    "- The top features used in our model included the 3 game rolling averages per team of previously played games for the following baseball hitting stats:\n",
    "\n",
    "    - RBIs, number of hits, plate appearances, and home runs\n",
    "\n",
    "My findings indicate that using past games' hitting performance is not necessarily a signicant predictor of what is going to happen in the next game, but may help you beat the odds.\n",
    "\n",
    "### Next Steps:\n",
    "\n",
    "- With more time, I would like to continue trying out other models using new features and changing the hyperparameters to see if we can beat our forecasting performance.\n",
    "- I would like to incorporate pitching and fielding data to our data set to have more features to predict with and include more seasons of games played.\n",
    "- I would also like to create a time series model to predict the future record of a team.\n"
   ]
  },
  {
   "cell_type": "markdown",
   "id": "cf00e15d",
   "metadata": {},
   "source": [
    "# Acquire\n",
    "\n",
    "In this section we will acquire the Major League Baseball data using acquire.py file.\n",
    "\n",
    "- All data is acquired from batting game logs for all 30 Major League Baseball teams for the year 2021\n",
    "- All batting logs were combined into one .csv file\n",
    "- Data source is baseball-reference.com"
   ]
  },
  {
   "cell_type": "markdown",
   "id": "9bd97b7b",
   "metadata": {},
   "source": [
    "### Read data from local .csv into a dataframe to use for exploration and modeling\n"
   ]
  },
  {
   "cell_type": "code",
   "execution_count": 1,
   "id": "b7526ce6",
   "metadata": {},
   "outputs": [],
   "source": [
    "#Disable warnings\n",
    "import warnings\n",
    "warnings.filterwarnings('ignore')\n",
    "\n",
    "#Import libraries \n",
    "import pandas as pd\n",
    "import numpy as np\n",
    "\n",
    "# import models\n",
    "from sklearn.tree import DecisionTreeClassifier, plot_tree, export_text\n",
    "from sklearn.metrics import classification_report, confusion_matrix, recall_score\n",
    "from sklearn.ensemble import RandomForestClassifier\n",
    "from sklearn.neighbors import KNeighborsClassifier\n",
    "from sklearn.linear_model import LogisticRegression\n",
    "from sklearn.model_selection import train_test_split\n",
    "from sklearn.metrics import classification_report\n",
    "from sklearn.metrics import confusion_matrix\n",
    "\n",
    "import sklearn.feature_selection as feat_select\n",
    "import scipy.stats as stats\n",
    "from sklearn.preprocessing import LabelEncoder, normalize\n",
    "\n",
    "# supress scientific notation\n",
    "np.set_printoptions(suppress=True)\n",
    "\n",
    "from sklearn.cluster import KMeans\n",
    "from sklearn.preprocessing import MinMaxScaler, StandardScaler\n",
    "from sklearn.preprocessing import PolynomialFeatures\n",
    "from sklearn.feature_selection import SelectKBest, f_regression, RFE\n",
    "from sklearn.linear_model import LinearRegression, LassoLars, TweedieRegressor, LogisticRegression\n",
    "from sklearn.metrics import mean_squared_error\n",
    "from sklearn.metrics import explained_variance_score\n",
    "\n",
    "#Import custom libraries\n",
    "import acquire\n",
    "import prepare\n",
    "import explore\n",
    "\n",
    "#Import libraries for graphing\n",
    "import matplotlib.pyplot as plt\n",
    "import matplotlib.ticker as ticker\n",
    "import seaborn as sns\n",
    "\n"
   ]
  },
  {
   "cell_type": "code",
   "execution_count": 2,
   "id": "65f80b25",
   "metadata": {},
   "outputs": [
    {
     "data": {
      "text/html": [
       "<div>\n",
       "<style scoped>\n",
       "    .dataframe tbody tr th:only-of-type {\n",
       "        vertical-align: middle;\n",
       "    }\n",
       "\n",
       "    .dataframe tbody tr th {\n",
       "        vertical-align: top;\n",
       "    }\n",
       "\n",
       "    .dataframe thead th {\n",
       "        text-align: right;\n",
       "    }\n",
       "</style>\n",
       "<table border=\"1\" class=\"dataframe\">\n",
       "  <thead>\n",
       "    <tr style=\"text-align: right;\">\n",
       "      <th></th>\n",
       "      <th>Team</th>\n",
       "      <th>Date</th>\n",
       "      <th>Opp</th>\n",
       "      <th>Rslt</th>\n",
       "      <th>plate_app</th>\n",
       "      <th>at_bats</th>\n",
       "      <th>runs_scored</th>\n",
       "      <th>hits</th>\n",
       "      <th>doubles</th>\n",
       "      <th>triples</th>\n",
       "      <th>...</th>\n",
       "      <th>roll_double_plays</th>\n",
       "      <th>roll_stolen_bases</th>\n",
       "      <th>roll_caught_stealing</th>\n",
       "      <th>roll_batting_avg</th>\n",
       "      <th>roll_OBP</th>\n",
       "      <th>roll_SLG</th>\n",
       "      <th>roll_OPS</th>\n",
       "      <th>roll_left_on_base</th>\n",
       "      <th>roll_num_players_used</th>\n",
       "      <th>roll_is_win</th>\n",
       "    </tr>\n",
       "  </thead>\n",
       "  <tbody>\n",
       "    <tr>\n",
       "      <th>0</th>\n",
       "      <td>Arizona Dbacks</td>\n",
       "      <td>1-Apr</td>\n",
       "      <td>SDP</td>\n",
       "      <td>L,7-8</td>\n",
       "      <td>41</td>\n",
       "      <td>40</td>\n",
       "      <td>7</td>\n",
       "      <td>12</td>\n",
       "      <td>3</td>\n",
       "      <td>0</td>\n",
       "      <td>...</td>\n",
       "      <td>0.000000</td>\n",
       "      <td>0.000000</td>\n",
       "      <td>0.0</td>\n",
       "      <td>0.300000</td>\n",
       "      <td>0.317000</td>\n",
       "      <td>0.675000</td>\n",
       "      <td>0.992000</td>\n",
       "      <td>7.000000</td>\n",
       "      <td>16.000000</td>\n",
       "      <td>0.000000</td>\n",
       "    </tr>\n",
       "    <tr>\n",
       "      <th>1</th>\n",
       "      <td>Arizona Dbacks</td>\n",
       "      <td>2-Apr</td>\n",
       "      <td>SDP</td>\n",
       "      <td>L,2-4</td>\n",
       "      <td>38</td>\n",
       "      <td>36</td>\n",
       "      <td>2</td>\n",
       "      <td>8</td>\n",
       "      <td>1</td>\n",
       "      <td>0</td>\n",
       "      <td>...</td>\n",
       "      <td>0.500000</td>\n",
       "      <td>0.500000</td>\n",
       "      <td>0.0</td>\n",
       "      <td>0.281500</td>\n",
       "      <td>0.304000</td>\n",
       "      <td>0.594000</td>\n",
       "      <td>0.898000</td>\n",
       "      <td>8.000000</td>\n",
       "      <td>16.500000</td>\n",
       "      <td>0.000000</td>\n",
       "    </tr>\n",
       "    <tr>\n",
       "      <th>2</th>\n",
       "      <td>Arizona Dbacks</td>\n",
       "      <td>3-Apr</td>\n",
       "      <td>SDP</td>\n",
       "      <td>L,0-7</td>\n",
       "      <td>30</td>\n",
       "      <td>30</td>\n",
       "      <td>0</td>\n",
       "      <td>4</td>\n",
       "      <td>0</td>\n",
       "      <td>0</td>\n",
       "      <td>...</td>\n",
       "      <td>0.666667</td>\n",
       "      <td>0.333333</td>\n",
       "      <td>0.0</td>\n",
       "      <td>0.263000</td>\n",
       "      <td>0.285333</td>\n",
       "      <td>0.531333</td>\n",
       "      <td>0.816333</td>\n",
       "      <td>6.333333</td>\n",
       "      <td>15.333333</td>\n",
       "      <td>0.000000</td>\n",
       "    </tr>\n",
       "    <tr>\n",
       "      <th>3</th>\n",
       "      <td>Arizona Dbacks</td>\n",
       "      <td>4-Apr</td>\n",
       "      <td>SDP</td>\n",
       "      <td>W,3-1</td>\n",
       "      <td>38</td>\n",
       "      <td>32</td>\n",
       "      <td>3</td>\n",
       "      <td>6</td>\n",
       "      <td>1</td>\n",
       "      <td>1</td>\n",
       "      <td>...</td>\n",
       "      <td>1.333333</td>\n",
       "      <td>0.333333</td>\n",
       "      <td>0.0</td>\n",
       "      <td>0.235333</td>\n",
       "      <td>0.268000</td>\n",
       "      <td>0.432000</td>\n",
       "      <td>0.699667</td>\n",
       "      <td>6.666667</td>\n",
       "      <td>15.333333</td>\n",
       "      <td>0.333333</td>\n",
       "    </tr>\n",
       "    <tr>\n",
       "      <th>4</th>\n",
       "      <td>Arizona Dbacks</td>\n",
       "      <td>6-Apr</td>\n",
       "      <td>COL</td>\n",
       "      <td>W,10-8</td>\n",
       "      <td>57</td>\n",
       "      <td>53</td>\n",
       "      <td>10</td>\n",
       "      <td>13</td>\n",
       "      <td>3</td>\n",
       "      <td>0</td>\n",
       "      <td>...</td>\n",
       "      <td>1.000000</td>\n",
       "      <td>0.000000</td>\n",
       "      <td>0.0</td>\n",
       "      <td>0.222667</td>\n",
       "      <td>0.262667</td>\n",
       "      <td>0.390000</td>\n",
       "      <td>0.652333</td>\n",
       "      <td>6.333333</td>\n",
       "      <td>16.000000</td>\n",
       "      <td>0.666667</td>\n",
       "    </tr>\n",
       "  </tbody>\n",
       "</table>\n",
       "<p>5 rows × 58 columns</p>\n",
       "</div>"
      ],
      "text/plain": [
       "             Team   Date  Opp    Rslt  plate_app  at_bats  runs_scored  hits  \\\n",
       "0  Arizona Dbacks  1-Apr  SDP   L,7-8         41       40            7    12   \n",
       "1  Arizona Dbacks  2-Apr  SDP   L,2-4         38       36            2     8   \n",
       "2  Arizona Dbacks  3-Apr  SDP   L,0-7         30       30            0     4   \n",
       "3  Arizona Dbacks  4-Apr  SDP   W,3-1         38       32            3     6   \n",
       "4  Arizona Dbacks  6-Apr  COL  W,10-8         57       53           10    13   \n",
       "\n",
       "   doubles  triples  ...  roll_double_plays  roll_stolen_bases  \\\n",
       "0        3        0  ...           0.000000           0.000000   \n",
       "1        1        0  ...           0.500000           0.500000   \n",
       "2        0        0  ...           0.666667           0.333333   \n",
       "3        1        1  ...           1.333333           0.333333   \n",
       "4        3        0  ...           1.000000           0.000000   \n",
       "\n",
       "   roll_caught_stealing  roll_batting_avg  roll_OBP  roll_SLG  roll_OPS  \\\n",
       "0                   0.0          0.300000  0.317000  0.675000  0.992000   \n",
       "1                   0.0          0.281500  0.304000  0.594000  0.898000   \n",
       "2                   0.0          0.263000  0.285333  0.531333  0.816333   \n",
       "3                   0.0          0.235333  0.268000  0.432000  0.699667   \n",
       "4                   0.0          0.222667  0.262667  0.390000  0.652333   \n",
       "\n",
       "   roll_left_on_base  roll_num_players_used  roll_is_win  \n",
       "0           7.000000              16.000000     0.000000  \n",
       "1           8.000000              16.500000     0.000000  \n",
       "2           6.333333              15.333333     0.000000  \n",
       "3           6.666667              15.333333     0.333333  \n",
       "4           6.333333              16.000000     0.666667  \n",
       "\n",
       "[5 rows x 58 columns]"
      ]
     },
     "execution_count": 2,
     "metadata": {},
     "output_type": "execute_result"
    }
   ],
   "source": [
    "df = acquire.get_MLB_log_data()\n",
    "df.head()\n"
   ]
  },
  {
   "cell_type": "code",
   "execution_count": 3,
   "id": "cf9ebf25",
   "metadata": {},
   "outputs": [
    {
     "name": "stdout",
     "output_type": "stream",
     "text": [
      "<class 'pandas.core.frame.DataFrame'>\n",
      "RangeIndex: 4858 entries, 0 to 4857\n",
      "Data columns (total 58 columns):\n",
      " #   Column                  Non-Null Count  Dtype  \n",
      "---  ------                  --------------  -----  \n",
      " 0   Team                    4858 non-null   object \n",
      " 1   Date                    4858 non-null   object \n",
      " 2   Opp                     4858 non-null   object \n",
      " 3   Rslt                    4858 non-null   object \n",
      " 4   plate_app               4858 non-null   int64  \n",
      " 5   at_bats                 4858 non-null   int64  \n",
      " 6   runs_scored             4858 non-null   int64  \n",
      " 7   hits                    4858 non-null   int64  \n",
      " 8   doubles                 4858 non-null   int64  \n",
      " 9   triples                 4858 non-null   int64  \n",
      " 10  HR                      4858 non-null   int64  \n",
      " 11  RBI                     4858 non-null   int64  \n",
      " 12  bases_on_balls          4858 non-null   int64  \n",
      " 13  intentional_bb          4858 non-null   int64  \n",
      " 14  strikeouts              4858 non-null   int64  \n",
      " 15  hit_by_pitch            4858 non-null   int64  \n",
      " 16  sac_hits                4858 non-null   int64  \n",
      " 17  sac_flies               4858 non-null   int64  \n",
      " 18  reached_on_error        4858 non-null   int64  \n",
      " 19  double_plays            4858 non-null   int64  \n",
      " 20  stolen_bases            4858 non-null   int64  \n",
      " 21  caught_stealing         4858 non-null   int64  \n",
      " 22  batting_avg             4858 non-null   float64\n",
      " 23  OBP                     4858 non-null   float64\n",
      " 24  SLG                     4858 non-null   float64\n",
      " 25  OPS                     4858 non-null   float64\n",
      " 26  left_on_base            4858 non-null   int64  \n",
      " 27  num_players_used        4858 non-null   int64  \n",
      " 28  handedness_opp_pitcher  4858 non-null   object \n",
      " 29  Opp. Starter (GmeSc)    4858 non-null   object \n",
      " 30  is_away                 4858 non-null   int64  \n",
      " 31  is_win                  4858 non-null   int64  \n",
      " 32  made_playoffs           4858 non-null   int64  \n",
      " 33  roll_plate_app          4858 non-null   float64\n",
      " 34  roll_at_bats            4858 non-null   float64\n",
      " 35  roll_runs_scored        4858 non-null   float64\n",
      " 36  roll_hits               4858 non-null   float64\n",
      " 37  roll_doubles            4858 non-null   float64\n",
      " 38  roll_triples            4858 non-null   float64\n",
      " 39  roll_HR                 4858 non-null   float64\n",
      " 40  roll_RBI                4858 non-null   float64\n",
      " 41  roll_bases_on_balls     4858 non-null   float64\n",
      " 42  roll_intentional_bb     4858 non-null   float64\n",
      " 43  roll_strikeouts         4858 non-null   float64\n",
      " 44  roll_hit_by_pitch       4858 non-null   float64\n",
      " 45  roll_sac_hits           4858 non-null   float64\n",
      " 46  roll_sac_flies          4858 non-null   float64\n",
      " 47  roll_reached_on_error   4858 non-null   float64\n",
      " 48  roll_double_plays       4858 non-null   float64\n",
      " 49  roll_stolen_bases       4858 non-null   float64\n",
      " 50  roll_caught_stealing    4858 non-null   float64\n",
      " 51  roll_batting_avg        4858 non-null   float64\n",
      " 52  roll_OBP                4858 non-null   float64\n",
      " 53  roll_SLG                4858 non-null   float64\n",
      " 54  roll_OPS                4858 non-null   float64\n",
      " 55  roll_left_on_base       4858 non-null   float64\n",
      " 56  roll_num_players_used   4858 non-null   float64\n",
      " 57  roll_is_win             4858 non-null   float64\n",
      "dtypes: float64(29), int64(23), object(6)\n",
      "memory usage: 2.1+ MB\n"
     ]
    }
   ],
   "source": [
    "df.info()"
   ]
  },
  {
   "cell_type": "markdown",
   "id": "78cbc5f5",
   "metadata": {},
   "source": [
    "- Acquired 2021 MLB baseball hitting data successfully."
   ]
  },
  {
   "cell_type": "markdown",
   "id": "a893feab",
   "metadata": {},
   "source": [
    "# Prepare\n",
    "\n",
    "In this section we will clean and prepare data the obtained to use for exploration and modeling using the function in prepare.py file."
   ]
  },
  {
   "cell_type": "code",
   "execution_count": 4,
   "id": "8770da51",
   "metadata": {},
   "outputs": [
    {
     "data": {
      "text/html": [
       "<div>\n",
       "<style scoped>\n",
       "    .dataframe tbody tr th:only-of-type {\n",
       "        vertical-align: middle;\n",
       "    }\n",
       "\n",
       "    .dataframe tbody tr th {\n",
       "        vertical-align: top;\n",
       "    }\n",
       "\n",
       "    .dataframe thead th {\n",
       "        text-align: right;\n",
       "    }\n",
       "</style>\n",
       "<table border=\"1\" class=\"dataframe\">\n",
       "  <thead>\n",
       "    <tr style=\"text-align: right;\">\n",
       "      <th></th>\n",
       "      <th>Team</th>\n",
       "      <th>Date</th>\n",
       "      <th>Opp</th>\n",
       "      <th>Rslt</th>\n",
       "      <th>plate_app</th>\n",
       "      <th>at_bats</th>\n",
       "      <th>runs_scored</th>\n",
       "      <th>hits</th>\n",
       "      <th>doubles</th>\n",
       "      <th>triples</th>\n",
       "      <th>...</th>\n",
       "      <th>roll_double_plays</th>\n",
       "      <th>roll_stolen_bases</th>\n",
       "      <th>roll_caught_stealing</th>\n",
       "      <th>roll_batting_avg</th>\n",
       "      <th>roll_OBP</th>\n",
       "      <th>roll_SLG</th>\n",
       "      <th>roll_OPS</th>\n",
       "      <th>roll_left_on_base</th>\n",
       "      <th>roll_num_players_used</th>\n",
       "      <th>roll_is_win</th>\n",
       "    </tr>\n",
       "  </thead>\n",
       "  <tbody>\n",
       "    <tr>\n",
       "      <th>0</th>\n",
       "      <td>Arizona Dbacks</td>\n",
       "      <td>1-Apr</td>\n",
       "      <td>SDP</td>\n",
       "      <td>L,7-8</td>\n",
       "      <td>41</td>\n",
       "      <td>40</td>\n",
       "      <td>7</td>\n",
       "      <td>12</td>\n",
       "      <td>3</td>\n",
       "      <td>0</td>\n",
       "      <td>...</td>\n",
       "      <td>0.000000</td>\n",
       "      <td>0.000000</td>\n",
       "      <td>0.0</td>\n",
       "      <td>0.300000</td>\n",
       "      <td>0.317000</td>\n",
       "      <td>0.675000</td>\n",
       "      <td>0.992000</td>\n",
       "      <td>7.000000</td>\n",
       "      <td>16.000000</td>\n",
       "      <td>0.000000</td>\n",
       "    </tr>\n",
       "    <tr>\n",
       "      <th>1</th>\n",
       "      <td>Arizona Dbacks</td>\n",
       "      <td>2-Apr</td>\n",
       "      <td>SDP</td>\n",
       "      <td>L,2-4</td>\n",
       "      <td>38</td>\n",
       "      <td>36</td>\n",
       "      <td>2</td>\n",
       "      <td>8</td>\n",
       "      <td>1</td>\n",
       "      <td>0</td>\n",
       "      <td>...</td>\n",
       "      <td>0.500000</td>\n",
       "      <td>0.500000</td>\n",
       "      <td>0.0</td>\n",
       "      <td>0.281500</td>\n",
       "      <td>0.304000</td>\n",
       "      <td>0.594000</td>\n",
       "      <td>0.898000</td>\n",
       "      <td>8.000000</td>\n",
       "      <td>16.500000</td>\n",
       "      <td>0.000000</td>\n",
       "    </tr>\n",
       "    <tr>\n",
       "      <th>2</th>\n",
       "      <td>Arizona Dbacks</td>\n",
       "      <td>3-Apr</td>\n",
       "      <td>SDP</td>\n",
       "      <td>L,0-7</td>\n",
       "      <td>30</td>\n",
       "      <td>30</td>\n",
       "      <td>0</td>\n",
       "      <td>4</td>\n",
       "      <td>0</td>\n",
       "      <td>0</td>\n",
       "      <td>...</td>\n",
       "      <td>0.666667</td>\n",
       "      <td>0.333333</td>\n",
       "      <td>0.0</td>\n",
       "      <td>0.263000</td>\n",
       "      <td>0.285333</td>\n",
       "      <td>0.531333</td>\n",
       "      <td>0.816333</td>\n",
       "      <td>6.333333</td>\n",
       "      <td>15.333333</td>\n",
       "      <td>0.000000</td>\n",
       "    </tr>\n",
       "    <tr>\n",
       "      <th>3</th>\n",
       "      <td>Arizona Dbacks</td>\n",
       "      <td>4-Apr</td>\n",
       "      <td>SDP</td>\n",
       "      <td>W,3-1</td>\n",
       "      <td>38</td>\n",
       "      <td>32</td>\n",
       "      <td>3</td>\n",
       "      <td>6</td>\n",
       "      <td>1</td>\n",
       "      <td>1</td>\n",
       "      <td>...</td>\n",
       "      <td>1.333333</td>\n",
       "      <td>0.333333</td>\n",
       "      <td>0.0</td>\n",
       "      <td>0.235333</td>\n",
       "      <td>0.268000</td>\n",
       "      <td>0.432000</td>\n",
       "      <td>0.699667</td>\n",
       "      <td>6.666667</td>\n",
       "      <td>15.333333</td>\n",
       "      <td>0.333333</td>\n",
       "    </tr>\n",
       "    <tr>\n",
       "      <th>4</th>\n",
       "      <td>Arizona Dbacks</td>\n",
       "      <td>6-Apr</td>\n",
       "      <td>COL</td>\n",
       "      <td>W,10-8</td>\n",
       "      <td>57</td>\n",
       "      <td>53</td>\n",
       "      <td>10</td>\n",
       "      <td>13</td>\n",
       "      <td>3</td>\n",
       "      <td>0</td>\n",
       "      <td>...</td>\n",
       "      <td>1.000000</td>\n",
       "      <td>0.000000</td>\n",
       "      <td>0.0</td>\n",
       "      <td>0.222667</td>\n",
       "      <td>0.262667</td>\n",
       "      <td>0.390000</td>\n",
       "      <td>0.652333</td>\n",
       "      <td>6.333333</td>\n",
       "      <td>16.000000</td>\n",
       "      <td>0.666667</td>\n",
       "    </tr>\n",
       "  </tbody>\n",
       "</table>\n",
       "<p>5 rows × 58 columns</p>\n",
       "</div>"
      ],
      "text/plain": [
       "             Team   Date  Opp    Rslt  plate_app  at_bats  runs_scored  hits  \\\n",
       "0  Arizona Dbacks  1-Apr  SDP   L,7-8         41       40            7    12   \n",
       "1  Arizona Dbacks  2-Apr  SDP   L,2-4         38       36            2     8   \n",
       "2  Arizona Dbacks  3-Apr  SDP   L,0-7         30       30            0     4   \n",
       "3  Arizona Dbacks  4-Apr  SDP   W,3-1         38       32            3     6   \n",
       "4  Arizona Dbacks  6-Apr  COL  W,10-8         57       53           10    13   \n",
       "\n",
       "   doubles  triples  ...  roll_double_plays  roll_stolen_bases  \\\n",
       "0        3        0  ...           0.000000           0.000000   \n",
       "1        1        0  ...           0.500000           0.500000   \n",
       "2        0        0  ...           0.666667           0.333333   \n",
       "3        1        1  ...           1.333333           0.333333   \n",
       "4        3        0  ...           1.000000           0.000000   \n",
       "\n",
       "   roll_caught_stealing  roll_batting_avg  roll_OBP  roll_SLG  roll_OPS  \\\n",
       "0                   0.0          0.300000  0.317000  0.675000  0.992000   \n",
       "1                   0.0          0.281500  0.304000  0.594000  0.898000   \n",
       "2                   0.0          0.263000  0.285333  0.531333  0.816333   \n",
       "3                   0.0          0.235333  0.268000  0.432000  0.699667   \n",
       "4                   0.0          0.222667  0.262667  0.390000  0.652333   \n",
       "\n",
       "   roll_left_on_base  roll_num_players_used  roll_is_win  \n",
       "0           7.000000              16.000000     0.000000  \n",
       "1           8.000000              16.500000     0.000000  \n",
       "2           6.333333              15.333333     0.000000  \n",
       "3           6.666667              15.333333     0.333333  \n",
       "4           6.333333              16.000000     0.666667  \n",
       "\n",
       "[5 rows x 58 columns]"
      ]
     },
     "execution_count": 4,
     "metadata": {},
     "output_type": "execute_result"
    }
   ],
   "source": [
    "df = prepare.prepare_data()\n",
    "df.head()"
   ]
  },
  {
   "cell_type": "markdown",
   "id": "79f56870",
   "metadata": {},
   "source": [
    "## Takeaways:\n",
    "\n",
    "- Created 3 game rolling average per team columns for all hitting stats for use in predictive modeling\n",
    "- Created 'is_away' column to capture that the game was played away, not at home stadium\n",
    "- Renamed columns for easier readability\n",
    "- Created 'is_win' column to capture the result of the game, win or loss\n",
    "- Created 'made_playoffs' to capture whether the team made it to the playoffs\n",
    "- Dropped unnecessary columns, \"Rk\", \"Gtm\", \"Unnamed: 4\" and because they were used on the website to show the count of the columns in the table, the game number of the season, and the \"@\" to indicate away game which a new column was created to capture.\n",
    "- Created function, prepare_data(), to clean up and prepare all data acquired as described above\n",
    "- Created dummy variables for categorical features"
   ]
  },
  {
   "cell_type": "markdown",
   "id": "68b140c0",
   "metadata": {},
   "source": [
    "# Explore\n",
    "###Questions to Consider Before Exploration:\n",
    "\n",
    "- What features are most correlated to winning?\n",
    "- What features rank highest amongst the most winning teams?\n",
    "- Does being away from the team's home stadium affect wins?\n",
    "- Does the number of walks correlate to winning?\n",
    "- Does the either singles, doubles, or triples affect winning?\n",
    "- Does clustering features better predict a win?\n",
    "- Can we create a model to predict a win based on baseball hitting data?\n",
    "\n",
    "Now that we have acquired and prepared the baseball data, we will begin to explore it."
   ]
  },
  {
   "cell_type": "code",
   "execution_count": 5,
   "id": "a39f56f1",
   "metadata": {},
   "outputs": [
    {
     "name": "stdout",
     "output_type": "stream",
     "text": [
      "<class 'pandas.core.frame.DataFrame'>\n",
      "RangeIndex: 4858 entries, 0 to 4857\n",
      "Data columns (total 58 columns):\n",
      " #   Column                  Non-Null Count  Dtype  \n",
      "---  ------                  --------------  -----  \n",
      " 0   Team                    4858 non-null   object \n",
      " 1   Date                    4858 non-null   object \n",
      " 2   Opp                     4858 non-null   object \n",
      " 3   Rslt                    4858 non-null   object \n",
      " 4   plate_app               4858 non-null   int64  \n",
      " 5   at_bats                 4858 non-null   int64  \n",
      " 6   runs_scored             4858 non-null   int64  \n",
      " 7   hits                    4858 non-null   int64  \n",
      " 8   doubles                 4858 non-null   int64  \n",
      " 9   triples                 4858 non-null   int64  \n",
      " 10  HR                      4858 non-null   int64  \n",
      " 11  RBI                     4858 non-null   int64  \n",
      " 12  bases_on_balls          4858 non-null   int64  \n",
      " 13  intentional_bb          4858 non-null   int64  \n",
      " 14  strikeouts              4858 non-null   int64  \n",
      " 15  hit_by_pitch            4858 non-null   int64  \n",
      " 16  sac_hits                4858 non-null   int64  \n",
      " 17  sac_flies               4858 non-null   int64  \n",
      " 18  reached_on_error        4858 non-null   int64  \n",
      " 19  double_plays            4858 non-null   int64  \n",
      " 20  stolen_bases            4858 non-null   int64  \n",
      " 21  caught_stealing         4858 non-null   int64  \n",
      " 22  batting_avg             4858 non-null   float64\n",
      " 23  OBP                     4858 non-null   float64\n",
      " 24  SLG                     4858 non-null   float64\n",
      " 25  OPS                     4858 non-null   float64\n",
      " 26  left_on_base            4858 non-null   int64  \n",
      " 27  num_players_used        4858 non-null   int64  \n",
      " 28  handedness_opp_pitcher  4858 non-null   object \n",
      " 29  Opp. Starter (GmeSc)    4858 non-null   object \n",
      " 30  is_away                 4858 non-null   int64  \n",
      " 31  is_win                  4858 non-null   int64  \n",
      " 32  made_playoffs           4858 non-null   int64  \n",
      " 33  roll_plate_app          4858 non-null   float64\n",
      " 34  roll_at_bats            4858 non-null   float64\n",
      " 35  roll_runs_scored        4858 non-null   float64\n",
      " 36  roll_hits               4858 non-null   float64\n",
      " 37  roll_doubles            4858 non-null   float64\n",
      " 38  roll_triples            4858 non-null   float64\n",
      " 39  roll_HR                 4858 non-null   float64\n",
      " 40  roll_RBI                4858 non-null   float64\n",
      " 41  roll_bases_on_balls     4858 non-null   float64\n",
      " 42  roll_intentional_bb     4858 non-null   float64\n",
      " 43  roll_strikeouts         4858 non-null   float64\n",
      " 44  roll_hit_by_pitch       4858 non-null   float64\n",
      " 45  roll_sac_hits           4858 non-null   float64\n",
      " 46  roll_sac_flies          4858 non-null   float64\n",
      " 47  roll_reached_on_error   4858 non-null   float64\n",
      " 48  roll_double_plays       4858 non-null   float64\n",
      " 49  roll_stolen_bases       4858 non-null   float64\n",
      " 50  roll_caught_stealing    4858 non-null   float64\n",
      " 51  roll_batting_avg        4858 non-null   float64\n",
      " 52  roll_OBP                4858 non-null   float64\n",
      " 53  roll_SLG                4858 non-null   float64\n",
      " 54  roll_OPS                4858 non-null   float64\n",
      " 55  roll_left_on_base       4858 non-null   float64\n",
      " 56  roll_num_players_used   4858 non-null   float64\n",
      " 57  roll_is_win             4858 non-null   float64\n",
      "dtypes: float64(29), int64(23), object(6)\n",
      "memory usage: 2.1+ MB\n"
     ]
    }
   ],
   "source": [
    "df.info()"
   ]
  },
  {
   "cell_type": "markdown",
   "id": "ea675899",
   "metadata": {},
   "source": [
    "- Let's take a look at the values in the dataframe\n"
   ]
  },
  {
   "cell_type": "code",
   "execution_count": 6,
   "id": "76e11e26",
   "metadata": {},
   "outputs": [
    {
     "data": {
      "text/html": [
       "<div>\n",
       "<style scoped>\n",
       "    .dataframe tbody tr th:only-of-type {\n",
       "        vertical-align: middle;\n",
       "    }\n",
       "\n",
       "    .dataframe tbody tr th {\n",
       "        vertical-align: top;\n",
       "    }\n",
       "\n",
       "    .dataframe thead th {\n",
       "        text-align: right;\n",
       "    }\n",
       "</style>\n",
       "<table border=\"1\" class=\"dataframe\">\n",
       "  <thead>\n",
       "    <tr style=\"text-align: right;\">\n",
       "      <th></th>\n",
       "      <th>count</th>\n",
       "      <th>mean</th>\n",
       "      <th>std</th>\n",
       "      <th>min</th>\n",
       "      <th>25%</th>\n",
       "      <th>50%</th>\n",
       "      <th>75%</th>\n",
       "      <th>max</th>\n",
       "    </tr>\n",
       "  </thead>\n",
       "  <tbody>\n",
       "    <tr>\n",
       "      <th>plate_app</th>\n",
       "      <td>4858.0</td>\n",
       "      <td>37.426513</td>\n",
       "      <td>4.970414</td>\n",
       "      <td>21.000000</td>\n",
       "      <td>34.000000</td>\n",
       "      <td>37.000000</td>\n",
       "      <td>40.000000</td>\n",
       "      <td>63.000000</td>\n",
       "    </tr>\n",
       "    <tr>\n",
       "      <th>at_bats</th>\n",
       "      <td>4858.0</td>\n",
       "      <td>33.334911</td>\n",
       "      <td>4.051859</td>\n",
       "      <td>17.000000</td>\n",
       "      <td>31.000000</td>\n",
       "      <td>33.000000</td>\n",
       "      <td>36.000000</td>\n",
       "      <td>57.000000</td>\n",
       "    </tr>\n",
       "    <tr>\n",
       "      <th>runs_scored</th>\n",
       "      <td>4858.0</td>\n",
       "      <td>4.530671</td>\n",
       "      <td>3.184529</td>\n",
       "      <td>0.000000</td>\n",
       "      <td>2.000000</td>\n",
       "      <td>4.000000</td>\n",
       "      <td>6.000000</td>\n",
       "      <td>24.000000</td>\n",
       "    </tr>\n",
       "    <tr>\n",
       "      <th>hits</th>\n",
       "      <td>4858.0</td>\n",
       "      <td>8.127007</td>\n",
       "      <td>3.324612</td>\n",
       "      <td>0.000000</td>\n",
       "      <td>6.000000</td>\n",
       "      <td>8.000000</td>\n",
       "      <td>10.000000</td>\n",
       "      <td>22.000000</td>\n",
       "    </tr>\n",
       "    <tr>\n",
       "      <th>doubles</th>\n",
       "      <td>4858.0</td>\n",
       "      <td>1.618567</td>\n",
       "      <td>1.340229</td>\n",
       "      <td>0.000000</td>\n",
       "      <td>1.000000</td>\n",
       "      <td>1.000000</td>\n",
       "      <td>2.000000</td>\n",
       "      <td>9.000000</td>\n",
       "    </tr>\n",
       "    <tr>\n",
       "      <th>triples</th>\n",
       "      <td>4858.0</td>\n",
       "      <td>0.137917</td>\n",
       "      <td>0.375708</td>\n",
       "      <td>0.000000</td>\n",
       "      <td>0.000000</td>\n",
       "      <td>0.000000</td>\n",
       "      <td>0.000000</td>\n",
       "      <td>2.000000</td>\n",
       "    </tr>\n",
       "    <tr>\n",
       "      <th>HR</th>\n",
       "      <td>4858.0</td>\n",
       "      <td>1.223549</td>\n",
       "      <td>1.182470</td>\n",
       "      <td>0.000000</td>\n",
       "      <td>0.000000</td>\n",
       "      <td>1.000000</td>\n",
       "      <td>2.000000</td>\n",
       "      <td>8.000000</td>\n",
       "    </tr>\n",
       "    <tr>\n",
       "      <th>RBI</th>\n",
       "      <td>4858.0</td>\n",
       "      <td>4.321326</td>\n",
       "      <td>3.103705</td>\n",
       "      <td>0.000000</td>\n",
       "      <td>2.000000</td>\n",
       "      <td>4.000000</td>\n",
       "      <td>6.000000</td>\n",
       "      <td>23.000000</td>\n",
       "    </tr>\n",
       "    <tr>\n",
       "      <th>bases_on_balls</th>\n",
       "      <td>4858.0</td>\n",
       "      <td>3.251132</td>\n",
       "      <td>2.059723</td>\n",
       "      <td>0.000000</td>\n",
       "      <td>2.000000</td>\n",
       "      <td>3.000000</td>\n",
       "      <td>4.000000</td>\n",
       "      <td>14.000000</td>\n",
       "    </tr>\n",
       "    <tr>\n",
       "      <th>intentional_bb</th>\n",
       "      <td>4858.0</td>\n",
       "      <td>0.144710</td>\n",
       "      <td>0.439755</td>\n",
       "      <td>0.000000</td>\n",
       "      <td>0.000000</td>\n",
       "      <td>0.000000</td>\n",
       "      <td>0.000000</td>\n",
       "      <td>8.000000</td>\n",
       "    </tr>\n",
       "    <tr>\n",
       "      <th>strikeouts</th>\n",
       "      <td>4858.0</td>\n",
       "      <td>8.675381</td>\n",
       "      <td>2.902757</td>\n",
       "      <td>1.000000</td>\n",
       "      <td>7.000000</td>\n",
       "      <td>9.000000</td>\n",
       "      <td>11.000000</td>\n",
       "      <td>19.000000</td>\n",
       "    </tr>\n",
       "    <tr>\n",
       "      <th>hit_by_pitch</th>\n",
       "      <td>4858.0</td>\n",
       "      <td>0.434747</td>\n",
       "      <td>0.685719</td>\n",
       "      <td>0.000000</td>\n",
       "      <td>0.000000</td>\n",
       "      <td>0.000000</td>\n",
       "      <td>1.000000</td>\n",
       "      <td>5.000000</td>\n",
       "    </tr>\n",
       "    <tr>\n",
       "      <th>sac_hits</th>\n",
       "      <td>4858.0</td>\n",
       "      <td>0.157678</td>\n",
       "      <td>0.409688</td>\n",
       "      <td>0.000000</td>\n",
       "      <td>0.000000</td>\n",
       "      <td>0.000000</td>\n",
       "      <td>0.000000</td>\n",
       "      <td>4.000000</td>\n",
       "    </tr>\n",
       "    <tr>\n",
       "      <th>sac_flies</th>\n",
       "      <td>4858.0</td>\n",
       "      <td>0.235282</td>\n",
       "      <td>0.487453</td>\n",
       "      <td>0.000000</td>\n",
       "      <td>0.000000</td>\n",
       "      <td>0.000000</td>\n",
       "      <td>0.000000</td>\n",
       "      <td>4.000000</td>\n",
       "    </tr>\n",
       "    <tr>\n",
       "      <th>reached_on_error</th>\n",
       "      <td>4858.0</td>\n",
       "      <td>0.258748</td>\n",
       "      <td>0.521664</td>\n",
       "      <td>0.000000</td>\n",
       "      <td>0.000000</td>\n",
       "      <td>0.000000</td>\n",
       "      <td>0.000000</td>\n",
       "      <td>4.000000</td>\n",
       "    </tr>\n",
       "    <tr>\n",
       "      <th>double_plays</th>\n",
       "      <td>4858.0</td>\n",
       "      <td>0.685056</td>\n",
       "      <td>0.810693</td>\n",
       "      <td>0.000000</td>\n",
       "      <td>0.000000</td>\n",
       "      <td>1.000000</td>\n",
       "      <td>1.000000</td>\n",
       "      <td>5.000000</td>\n",
       "    </tr>\n",
       "    <tr>\n",
       "      <th>stolen_bases</th>\n",
       "      <td>4858.0</td>\n",
       "      <td>0.455537</td>\n",
       "      <td>0.782885</td>\n",
       "      <td>0.000000</td>\n",
       "      <td>0.000000</td>\n",
       "      <td>0.000000</td>\n",
       "      <td>1.000000</td>\n",
       "      <td>6.000000</td>\n",
       "    </tr>\n",
       "    <tr>\n",
       "      <th>caught_stealing</th>\n",
       "      <td>4858.0</td>\n",
       "      <td>0.146357</td>\n",
       "      <td>0.382051</td>\n",
       "      <td>0.000000</td>\n",
       "      <td>0.000000</td>\n",
       "      <td>0.000000</td>\n",
       "      <td>0.000000</td>\n",
       "      <td>3.000000</td>\n",
       "    </tr>\n",
       "    <tr>\n",
       "      <th>batting_avg</th>\n",
       "      <td>4858.0</td>\n",
       "      <td>0.238875</td>\n",
       "      <td>0.018086</td>\n",
       "      <td>0.069000</td>\n",
       "      <td>0.231000</td>\n",
       "      <td>0.238000</td>\n",
       "      <td>0.247000</td>\n",
       "      <td>0.417000</td>\n",
       "    </tr>\n",
       "    <tr>\n",
       "      <th>OBP</th>\n",
       "      <td>4858.0</td>\n",
       "      <td>0.314458</td>\n",
       "      <td>0.019108</td>\n",
       "      <td>0.129000</td>\n",
       "      <td>0.304000</td>\n",
       "      <td>0.315000</td>\n",
       "      <td>0.324000</td>\n",
       "      <td>0.522000</td>\n",
       "    </tr>\n",
       "    <tr>\n",
       "      <th>SLG</th>\n",
       "      <td>4858.0</td>\n",
       "      <td>0.400348</td>\n",
       "      <td>0.033317</td>\n",
       "      <td>0.100000</td>\n",
       "      <td>0.381000</td>\n",
       "      <td>0.399000</td>\n",
       "      <td>0.420000</td>\n",
       "      <td>0.675000</td>\n",
       "    </tr>\n",
       "    <tr>\n",
       "      <th>OPS</th>\n",
       "      <td>4858.0</td>\n",
       "      <td>0.714809</td>\n",
       "      <td>0.048638</td>\n",
       "      <td>0.229000</td>\n",
       "      <td>0.687000</td>\n",
       "      <td>0.712000</td>\n",
       "      <td>0.747000</td>\n",
       "      <td>1.138000</td>\n",
       "    </tr>\n",
       "    <tr>\n",
       "      <th>left_on_base</th>\n",
       "      <td>4858.0</td>\n",
       "      <td>6.579457</td>\n",
       "      <td>2.581185</td>\n",
       "      <td>0.000000</td>\n",
       "      <td>5.000000</td>\n",
       "      <td>6.000000</td>\n",
       "      <td>8.000000</td>\n",
       "      <td>18.000000</td>\n",
       "    </tr>\n",
       "    <tr>\n",
       "      <th>num_players_used</th>\n",
       "      <td>4858.0</td>\n",
       "      <td>12.621655</td>\n",
       "      <td>3.007252</td>\n",
       "      <td>9.000000</td>\n",
       "      <td>10.000000</td>\n",
       "      <td>12.000000</td>\n",
       "      <td>15.000000</td>\n",
       "      <td>25.000000</td>\n",
       "    </tr>\n",
       "    <tr>\n",
       "      <th>is_away</th>\n",
       "      <td>4858.0</td>\n",
       "      <td>0.500000</td>\n",
       "      <td>0.500051</td>\n",
       "      <td>0.000000</td>\n",
       "      <td>0.000000</td>\n",
       "      <td>0.500000</td>\n",
       "      <td>1.000000</td>\n",
       "      <td>1.000000</td>\n",
       "    </tr>\n",
       "    <tr>\n",
       "      <th>is_win</th>\n",
       "      <td>4858.0</td>\n",
       "      <td>0.500000</td>\n",
       "      <td>0.500051</td>\n",
       "      <td>0.000000</td>\n",
       "      <td>0.000000</td>\n",
       "      <td>0.500000</td>\n",
       "      <td>1.000000</td>\n",
       "      <td>1.000000</td>\n",
       "    </tr>\n",
       "    <tr>\n",
       "      <th>made_playoffs</th>\n",
       "      <td>4858.0</td>\n",
       "      <td>0.333265</td>\n",
       "      <td>0.471429</td>\n",
       "      <td>0.000000</td>\n",
       "      <td>0.000000</td>\n",
       "      <td>0.000000</td>\n",
       "      <td>1.000000</td>\n",
       "      <td>1.000000</td>\n",
       "    </tr>\n",
       "    <tr>\n",
       "      <th>roll_plate_app</th>\n",
       "      <td>4858.0</td>\n",
       "      <td>37.440442</td>\n",
       "      <td>3.075215</td>\n",
       "      <td>24.666667</td>\n",
       "      <td>35.333333</td>\n",
       "      <td>37.333333</td>\n",
       "      <td>39.333333</td>\n",
       "      <td>51.000000</td>\n",
       "    </tr>\n",
       "    <tr>\n",
       "      <th>roll_at_bats</th>\n",
       "      <td>4858.0</td>\n",
       "      <td>33.338308</td>\n",
       "      <td>2.554414</td>\n",
       "      <td>22.333333</td>\n",
       "      <td>31.666667</td>\n",
       "      <td>33.333333</td>\n",
       "      <td>35.000000</td>\n",
       "      <td>43.333333</td>\n",
       "    </tr>\n",
       "    <tr>\n",
       "      <th>roll_runs_scored</th>\n",
       "      <td>4858.0</td>\n",
       "      <td>4.532901</td>\n",
       "      <td>1.902283</td>\n",
       "      <td>0.000000</td>\n",
       "      <td>3.333333</td>\n",
       "      <td>4.333333</td>\n",
       "      <td>5.666667</td>\n",
       "      <td>14.666667</td>\n",
       "    </tr>\n",
       "    <tr>\n",
       "      <th>roll_hits</th>\n",
       "      <td>4858.0</td>\n",
       "      <td>8.127625</td>\n",
       "      <td>2.014547</td>\n",
       "      <td>2.000000</td>\n",
       "      <td>6.666667</td>\n",
       "      <td>8.000000</td>\n",
       "      <td>9.333333</td>\n",
       "      <td>16.000000</td>\n",
       "    </tr>\n",
       "    <tr>\n",
       "      <th>roll_doubles</th>\n",
       "      <td>4858.0</td>\n",
       "      <td>1.618361</td>\n",
       "      <td>0.798750</td>\n",
       "      <td>0.000000</td>\n",
       "      <td>1.000000</td>\n",
       "      <td>1.666667</td>\n",
       "      <td>2.000000</td>\n",
       "      <td>5.333333</td>\n",
       "    </tr>\n",
       "    <tr>\n",
       "      <th>roll_triples</th>\n",
       "      <td>4858.0</td>\n",
       "      <td>0.137539</td>\n",
       "      <td>0.224781</td>\n",
       "      <td>0.000000</td>\n",
       "      <td>0.000000</td>\n",
       "      <td>0.000000</td>\n",
       "      <td>0.333333</td>\n",
       "      <td>1.666667</td>\n",
       "    </tr>\n",
       "    <tr>\n",
       "      <th>roll_HR</th>\n",
       "      <td>4858.0</td>\n",
       "      <td>1.222622</td>\n",
       "      <td>0.708696</td>\n",
       "      <td>0.000000</td>\n",
       "      <td>0.666667</td>\n",
       "      <td>1.000000</td>\n",
       "      <td>1.666667</td>\n",
       "      <td>4.666667</td>\n",
       "    </tr>\n",
       "    <tr>\n",
       "      <th>roll_RBI</th>\n",
       "      <td>4858.0</td>\n",
       "      <td>4.322012</td>\n",
       "      <td>1.852611</td>\n",
       "      <td>0.000000</td>\n",
       "      <td>3.000000</td>\n",
       "      <td>4.000000</td>\n",
       "      <td>5.333333</td>\n",
       "      <td>14.666667</td>\n",
       "    </tr>\n",
       "    <tr>\n",
       "      <th>roll_bases_on_balls</th>\n",
       "      <td>4858.0</td>\n",
       "      <td>3.259092</td>\n",
       "      <td>1.263660</td>\n",
       "      <td>0.000000</td>\n",
       "      <td>2.333333</td>\n",
       "      <td>3.000000</td>\n",
       "      <td>4.000000</td>\n",
       "      <td>11.000000</td>\n",
       "    </tr>\n",
       "    <tr>\n",
       "      <th>roll_intentional_bb</th>\n",
       "      <td>4858.0</td>\n",
       "      <td>0.144127</td>\n",
       "      <td>0.256079</td>\n",
       "      <td>0.000000</td>\n",
       "      <td>0.000000</td>\n",
       "      <td>0.000000</td>\n",
       "      <td>0.333333</td>\n",
       "      <td>2.666667</td>\n",
       "    </tr>\n",
       "    <tr>\n",
       "      <th>roll_strikeouts</th>\n",
       "      <td>4858.0</td>\n",
       "      <td>8.680973</td>\n",
       "      <td>1.848603</td>\n",
       "      <td>3.333333</td>\n",
       "      <td>7.333333</td>\n",
       "      <td>8.666667</td>\n",
       "      <td>10.000000</td>\n",
       "      <td>17.000000</td>\n",
       "    </tr>\n",
       "    <tr>\n",
       "      <th>roll_hit_by_pitch</th>\n",
       "      <td>4858.0</td>\n",
       "      <td>0.435639</td>\n",
       "      <td>0.407811</td>\n",
       "      <td>0.000000</td>\n",
       "      <td>0.000000</td>\n",
       "      <td>0.333333</td>\n",
       "      <td>0.666667</td>\n",
       "      <td>2.333333</td>\n",
       "    </tr>\n",
       "    <tr>\n",
       "      <th>roll_sac_hits</th>\n",
       "      <td>4858.0</td>\n",
       "      <td>0.157953</td>\n",
       "      <td>0.247961</td>\n",
       "      <td>0.000000</td>\n",
       "      <td>0.000000</td>\n",
       "      <td>0.000000</td>\n",
       "      <td>0.333333</td>\n",
       "      <td>2.000000</td>\n",
       "    </tr>\n",
       "    <tr>\n",
       "      <th>roll_sac_flies</th>\n",
       "      <td>4858.0</td>\n",
       "      <td>0.236483</td>\n",
       "      <td>0.290448</td>\n",
       "      <td>0.000000</td>\n",
       "      <td>0.000000</td>\n",
       "      <td>0.000000</td>\n",
       "      <td>0.333333</td>\n",
       "      <td>3.000000</td>\n",
       "    </tr>\n",
       "    <tr>\n",
       "      <th>roll_reached_on_error</th>\n",
       "      <td>4858.0</td>\n",
       "      <td>0.258543</td>\n",
       "      <td>0.310373</td>\n",
       "      <td>0.000000</td>\n",
       "      <td>0.000000</td>\n",
       "      <td>0.333333</td>\n",
       "      <td>0.333333</td>\n",
       "      <td>2.333333</td>\n",
       "    </tr>\n",
       "    <tr>\n",
       "      <th>roll_double_plays</th>\n",
       "      <td>4858.0</td>\n",
       "      <td>0.684198</td>\n",
       "      <td>0.483806</td>\n",
       "      <td>0.000000</td>\n",
       "      <td>0.333333</td>\n",
       "      <td>0.666667</td>\n",
       "      <td>1.000000</td>\n",
       "      <td>3.000000</td>\n",
       "    </tr>\n",
       "    <tr>\n",
       "      <th>roll_stolen_bases</th>\n",
       "      <td>4858.0</td>\n",
       "      <td>0.454885</td>\n",
       "      <td>0.471083</td>\n",
       "      <td>0.000000</td>\n",
       "      <td>0.000000</td>\n",
       "      <td>0.333333</td>\n",
       "      <td>0.666667</td>\n",
       "      <td>4.000000</td>\n",
       "    </tr>\n",
       "    <tr>\n",
       "      <th>roll_caught_stealing</th>\n",
       "      <td>4858.0</td>\n",
       "      <td>0.146219</td>\n",
       "      <td>0.219766</td>\n",
       "      <td>0.000000</td>\n",
       "      <td>0.000000</td>\n",
       "      <td>0.000000</td>\n",
       "      <td>0.333333</td>\n",
       "      <td>1.333333</td>\n",
       "    </tr>\n",
       "    <tr>\n",
       "      <th>roll_batting_avg</th>\n",
       "      <td>4858.0</td>\n",
       "      <td>0.238869</td>\n",
       "      <td>0.018661</td>\n",
       "      <td>0.069000</td>\n",
       "      <td>0.230667</td>\n",
       "      <td>0.238000</td>\n",
       "      <td>0.247000</td>\n",
       "      <td>0.417000</td>\n",
       "    </tr>\n",
       "    <tr>\n",
       "      <th>roll_OBP</th>\n",
       "      <td>4858.0</td>\n",
       "      <td>0.314550</td>\n",
       "      <td>0.019837</td>\n",
       "      <td>0.129000</td>\n",
       "      <td>0.304000</td>\n",
       "      <td>0.314667</td>\n",
       "      <td>0.324000</td>\n",
       "      <td>0.522000</td>\n",
       "    </tr>\n",
       "    <tr>\n",
       "      <th>roll_SLG</th>\n",
       "      <td>4858.0</td>\n",
       "      <td>0.400195</td>\n",
       "      <td>0.034334</td>\n",
       "      <td>0.100000</td>\n",
       "      <td>0.380667</td>\n",
       "      <td>0.398667</td>\n",
       "      <td>0.420000</td>\n",
       "      <td>0.675000</td>\n",
       "    </tr>\n",
       "    <tr>\n",
       "      <th>roll_OPS</th>\n",
       "      <td>4858.0</td>\n",
       "      <td>0.714747</td>\n",
       "      <td>0.050200</td>\n",
       "      <td>0.229000</td>\n",
       "      <td>0.686667</td>\n",
       "      <td>0.711000</td>\n",
       "      <td>0.747000</td>\n",
       "      <td>1.135000</td>\n",
       "    </tr>\n",
       "    <tr>\n",
       "      <th>roll_left_on_base</th>\n",
       "      <td>4858.0</td>\n",
       "      <td>6.587965</td>\n",
       "      <td>1.548510</td>\n",
       "      <td>2.000000</td>\n",
       "      <td>5.666667</td>\n",
       "      <td>6.666667</td>\n",
       "      <td>7.666667</td>\n",
       "      <td>15.000000</td>\n",
       "    </tr>\n",
       "    <tr>\n",
       "      <th>roll_num_players_used</th>\n",
       "      <td>4858.0</td>\n",
       "      <td>12.621449</td>\n",
       "      <td>2.568006</td>\n",
       "      <td>9.000000</td>\n",
       "      <td>10.000000</td>\n",
       "      <td>12.333333</td>\n",
       "      <td>15.000000</td>\n",
       "      <td>20.000000</td>\n",
       "    </tr>\n",
       "    <tr>\n",
       "      <th>roll_is_win</th>\n",
       "      <td>4858.0</td>\n",
       "      <td>0.500343</td>\n",
       "      <td>0.306575</td>\n",
       "      <td>0.000000</td>\n",
       "      <td>0.333333</td>\n",
       "      <td>0.666667</td>\n",
       "      <td>0.666667</td>\n",
       "      <td>1.000000</td>\n",
       "    </tr>\n",
       "  </tbody>\n",
       "</table>\n",
       "</div>"
      ],
      "text/plain": [
       "                        count       mean       std        min        25%  \\\n",
       "plate_app              4858.0  37.426513  4.970414  21.000000  34.000000   \n",
       "at_bats                4858.0  33.334911  4.051859  17.000000  31.000000   \n",
       "runs_scored            4858.0   4.530671  3.184529   0.000000   2.000000   \n",
       "hits                   4858.0   8.127007  3.324612   0.000000   6.000000   \n",
       "doubles                4858.0   1.618567  1.340229   0.000000   1.000000   \n",
       "triples                4858.0   0.137917  0.375708   0.000000   0.000000   \n",
       "HR                     4858.0   1.223549  1.182470   0.000000   0.000000   \n",
       "RBI                    4858.0   4.321326  3.103705   0.000000   2.000000   \n",
       "bases_on_balls         4858.0   3.251132  2.059723   0.000000   2.000000   \n",
       "intentional_bb         4858.0   0.144710  0.439755   0.000000   0.000000   \n",
       "strikeouts             4858.0   8.675381  2.902757   1.000000   7.000000   \n",
       "hit_by_pitch           4858.0   0.434747  0.685719   0.000000   0.000000   \n",
       "sac_hits               4858.0   0.157678  0.409688   0.000000   0.000000   \n",
       "sac_flies              4858.0   0.235282  0.487453   0.000000   0.000000   \n",
       "reached_on_error       4858.0   0.258748  0.521664   0.000000   0.000000   \n",
       "double_plays           4858.0   0.685056  0.810693   0.000000   0.000000   \n",
       "stolen_bases           4858.0   0.455537  0.782885   0.000000   0.000000   \n",
       "caught_stealing        4858.0   0.146357  0.382051   0.000000   0.000000   \n",
       "batting_avg            4858.0   0.238875  0.018086   0.069000   0.231000   \n",
       "OBP                    4858.0   0.314458  0.019108   0.129000   0.304000   \n",
       "SLG                    4858.0   0.400348  0.033317   0.100000   0.381000   \n",
       "OPS                    4858.0   0.714809  0.048638   0.229000   0.687000   \n",
       "left_on_base           4858.0   6.579457  2.581185   0.000000   5.000000   \n",
       "num_players_used       4858.0  12.621655  3.007252   9.000000  10.000000   \n",
       "is_away                4858.0   0.500000  0.500051   0.000000   0.000000   \n",
       "is_win                 4858.0   0.500000  0.500051   0.000000   0.000000   \n",
       "made_playoffs          4858.0   0.333265  0.471429   0.000000   0.000000   \n",
       "roll_plate_app         4858.0  37.440442  3.075215  24.666667  35.333333   \n",
       "roll_at_bats           4858.0  33.338308  2.554414  22.333333  31.666667   \n",
       "roll_runs_scored       4858.0   4.532901  1.902283   0.000000   3.333333   \n",
       "roll_hits              4858.0   8.127625  2.014547   2.000000   6.666667   \n",
       "roll_doubles           4858.0   1.618361  0.798750   0.000000   1.000000   \n",
       "roll_triples           4858.0   0.137539  0.224781   0.000000   0.000000   \n",
       "roll_HR                4858.0   1.222622  0.708696   0.000000   0.666667   \n",
       "roll_RBI               4858.0   4.322012  1.852611   0.000000   3.000000   \n",
       "roll_bases_on_balls    4858.0   3.259092  1.263660   0.000000   2.333333   \n",
       "roll_intentional_bb    4858.0   0.144127  0.256079   0.000000   0.000000   \n",
       "roll_strikeouts        4858.0   8.680973  1.848603   3.333333   7.333333   \n",
       "roll_hit_by_pitch      4858.0   0.435639  0.407811   0.000000   0.000000   \n",
       "roll_sac_hits          4858.0   0.157953  0.247961   0.000000   0.000000   \n",
       "roll_sac_flies         4858.0   0.236483  0.290448   0.000000   0.000000   \n",
       "roll_reached_on_error  4858.0   0.258543  0.310373   0.000000   0.000000   \n",
       "roll_double_plays      4858.0   0.684198  0.483806   0.000000   0.333333   \n",
       "roll_stolen_bases      4858.0   0.454885  0.471083   0.000000   0.000000   \n",
       "roll_caught_stealing   4858.0   0.146219  0.219766   0.000000   0.000000   \n",
       "roll_batting_avg       4858.0   0.238869  0.018661   0.069000   0.230667   \n",
       "roll_OBP               4858.0   0.314550  0.019837   0.129000   0.304000   \n",
       "roll_SLG               4858.0   0.400195  0.034334   0.100000   0.380667   \n",
       "roll_OPS               4858.0   0.714747  0.050200   0.229000   0.686667   \n",
       "roll_left_on_base      4858.0   6.587965  1.548510   2.000000   5.666667   \n",
       "roll_num_players_used  4858.0  12.621449  2.568006   9.000000  10.000000   \n",
       "roll_is_win            4858.0   0.500343  0.306575   0.000000   0.333333   \n",
       "\n",
       "                             50%        75%        max  \n",
       "plate_app              37.000000  40.000000  63.000000  \n",
       "at_bats                33.000000  36.000000  57.000000  \n",
       "runs_scored             4.000000   6.000000  24.000000  \n",
       "hits                    8.000000  10.000000  22.000000  \n",
       "doubles                 1.000000   2.000000   9.000000  \n",
       "triples                 0.000000   0.000000   2.000000  \n",
       "HR                      1.000000   2.000000   8.000000  \n",
       "RBI                     4.000000   6.000000  23.000000  \n",
       "bases_on_balls          3.000000   4.000000  14.000000  \n",
       "intentional_bb          0.000000   0.000000   8.000000  \n",
       "strikeouts              9.000000  11.000000  19.000000  \n",
       "hit_by_pitch            0.000000   1.000000   5.000000  \n",
       "sac_hits                0.000000   0.000000   4.000000  \n",
       "sac_flies               0.000000   0.000000   4.000000  \n",
       "reached_on_error        0.000000   0.000000   4.000000  \n",
       "double_plays            1.000000   1.000000   5.000000  \n",
       "stolen_bases            0.000000   1.000000   6.000000  \n",
       "caught_stealing         0.000000   0.000000   3.000000  \n",
       "batting_avg             0.238000   0.247000   0.417000  \n",
       "OBP                     0.315000   0.324000   0.522000  \n",
       "SLG                     0.399000   0.420000   0.675000  \n",
       "OPS                     0.712000   0.747000   1.138000  \n",
       "left_on_base            6.000000   8.000000  18.000000  \n",
       "num_players_used       12.000000  15.000000  25.000000  \n",
       "is_away                 0.500000   1.000000   1.000000  \n",
       "is_win                  0.500000   1.000000   1.000000  \n",
       "made_playoffs           0.000000   1.000000   1.000000  \n",
       "roll_plate_app         37.333333  39.333333  51.000000  \n",
       "roll_at_bats           33.333333  35.000000  43.333333  \n",
       "roll_runs_scored        4.333333   5.666667  14.666667  \n",
       "roll_hits               8.000000   9.333333  16.000000  \n",
       "roll_doubles            1.666667   2.000000   5.333333  \n",
       "roll_triples            0.000000   0.333333   1.666667  \n",
       "roll_HR                 1.000000   1.666667   4.666667  \n",
       "roll_RBI                4.000000   5.333333  14.666667  \n",
       "roll_bases_on_balls     3.000000   4.000000  11.000000  \n",
       "roll_intentional_bb     0.000000   0.333333   2.666667  \n",
       "roll_strikeouts         8.666667  10.000000  17.000000  \n",
       "roll_hit_by_pitch       0.333333   0.666667   2.333333  \n",
       "roll_sac_hits           0.000000   0.333333   2.000000  \n",
       "roll_sac_flies          0.000000   0.333333   3.000000  \n",
       "roll_reached_on_error   0.333333   0.333333   2.333333  \n",
       "roll_double_plays       0.666667   1.000000   3.000000  \n",
       "roll_stolen_bases       0.333333   0.666667   4.000000  \n",
       "roll_caught_stealing    0.000000   0.333333   1.333333  \n",
       "roll_batting_avg        0.238000   0.247000   0.417000  \n",
       "roll_OBP                0.314667   0.324000   0.522000  \n",
       "roll_SLG                0.398667   0.420000   0.675000  \n",
       "roll_OPS                0.711000   0.747000   1.135000  \n",
       "roll_left_on_base       6.666667   7.666667  15.000000  \n",
       "roll_num_players_used  12.333333  15.000000  20.000000  \n",
       "roll_is_win             0.666667   0.666667   1.000000  "
      ]
     },
     "execution_count": 6,
     "metadata": {},
     "output_type": "execute_result"
    }
   ],
   "source": [
    "df.describe().T"
   ]
  },
  {
   "cell_type": "code",
   "execution_count": 7,
   "id": "149dfa83",
   "metadata": {},
   "outputs": [
    {
     "data": {
      "text/html": [
       "<div>\n",
       "<style scoped>\n",
       "    .dataframe tbody tr th:only-of-type {\n",
       "        vertical-align: middle;\n",
       "    }\n",
       "\n",
       "    .dataframe tbody tr th {\n",
       "        vertical-align: top;\n",
       "    }\n",
       "\n",
       "    .dataframe thead th {\n",
       "        text-align: right;\n",
       "    }\n",
       "</style>\n",
       "<table border=\"1\" class=\"dataframe\">\n",
       "  <thead>\n",
       "    <tr style=\"text-align: right;\">\n",
       "      <th></th>\n",
       "      <th>Team</th>\n",
       "      <th>Date</th>\n",
       "      <th>Opp</th>\n",
       "      <th>Rslt</th>\n",
       "      <th>plate_app</th>\n",
       "      <th>at_bats</th>\n",
       "      <th>runs_scored</th>\n",
       "      <th>hits</th>\n",
       "      <th>doubles</th>\n",
       "      <th>triples</th>\n",
       "      <th>...</th>\n",
       "      <th>roll_double_plays</th>\n",
       "      <th>roll_stolen_bases</th>\n",
       "      <th>roll_caught_stealing</th>\n",
       "      <th>roll_batting_avg</th>\n",
       "      <th>roll_OBP</th>\n",
       "      <th>roll_SLG</th>\n",
       "      <th>roll_OPS</th>\n",
       "      <th>roll_left_on_base</th>\n",
       "      <th>roll_num_players_used</th>\n",
       "      <th>roll_is_win</th>\n",
       "    </tr>\n",
       "  </thead>\n",
       "  <tbody>\n",
       "    <tr>\n",
       "      <th>0</th>\n",
       "      <td>Arizona Dbacks</td>\n",
       "      <td>1-Apr</td>\n",
       "      <td>SDP</td>\n",
       "      <td>L,7-8</td>\n",
       "      <td>41</td>\n",
       "      <td>40</td>\n",
       "      <td>7</td>\n",
       "      <td>12</td>\n",
       "      <td>3</td>\n",
       "      <td>0</td>\n",
       "      <td>...</td>\n",
       "      <td>0.000000</td>\n",
       "      <td>0.000000</td>\n",
       "      <td>0.0</td>\n",
       "      <td>0.300000</td>\n",
       "      <td>0.317000</td>\n",
       "      <td>0.675000</td>\n",
       "      <td>0.992000</td>\n",
       "      <td>7.000000</td>\n",
       "      <td>16.000000</td>\n",
       "      <td>0.000000</td>\n",
       "    </tr>\n",
       "    <tr>\n",
       "      <th>1</th>\n",
       "      <td>Arizona Dbacks</td>\n",
       "      <td>2-Apr</td>\n",
       "      <td>SDP</td>\n",
       "      <td>L,2-4</td>\n",
       "      <td>38</td>\n",
       "      <td>36</td>\n",
       "      <td>2</td>\n",
       "      <td>8</td>\n",
       "      <td>1</td>\n",
       "      <td>0</td>\n",
       "      <td>...</td>\n",
       "      <td>0.500000</td>\n",
       "      <td>0.500000</td>\n",
       "      <td>0.0</td>\n",
       "      <td>0.281500</td>\n",
       "      <td>0.304000</td>\n",
       "      <td>0.594000</td>\n",
       "      <td>0.898000</td>\n",
       "      <td>8.000000</td>\n",
       "      <td>16.500000</td>\n",
       "      <td>0.000000</td>\n",
       "    </tr>\n",
       "    <tr>\n",
       "      <th>2</th>\n",
       "      <td>Arizona Dbacks</td>\n",
       "      <td>3-Apr</td>\n",
       "      <td>SDP</td>\n",
       "      <td>L,0-7</td>\n",
       "      <td>30</td>\n",
       "      <td>30</td>\n",
       "      <td>0</td>\n",
       "      <td>4</td>\n",
       "      <td>0</td>\n",
       "      <td>0</td>\n",
       "      <td>...</td>\n",
       "      <td>0.666667</td>\n",
       "      <td>0.333333</td>\n",
       "      <td>0.0</td>\n",
       "      <td>0.263000</td>\n",
       "      <td>0.285333</td>\n",
       "      <td>0.531333</td>\n",
       "      <td>0.816333</td>\n",
       "      <td>6.333333</td>\n",
       "      <td>15.333333</td>\n",
       "      <td>0.000000</td>\n",
       "    </tr>\n",
       "    <tr>\n",
       "      <th>3</th>\n",
       "      <td>Arizona Dbacks</td>\n",
       "      <td>4-Apr</td>\n",
       "      <td>SDP</td>\n",
       "      <td>W,3-1</td>\n",
       "      <td>38</td>\n",
       "      <td>32</td>\n",
       "      <td>3</td>\n",
       "      <td>6</td>\n",
       "      <td>1</td>\n",
       "      <td>1</td>\n",
       "      <td>...</td>\n",
       "      <td>1.333333</td>\n",
       "      <td>0.333333</td>\n",
       "      <td>0.0</td>\n",
       "      <td>0.235333</td>\n",
       "      <td>0.268000</td>\n",
       "      <td>0.432000</td>\n",
       "      <td>0.699667</td>\n",
       "      <td>6.666667</td>\n",
       "      <td>15.333333</td>\n",
       "      <td>0.333333</td>\n",
       "    </tr>\n",
       "    <tr>\n",
       "      <th>4</th>\n",
       "      <td>Arizona Dbacks</td>\n",
       "      <td>6-Apr</td>\n",
       "      <td>COL</td>\n",
       "      <td>W,10-8</td>\n",
       "      <td>57</td>\n",
       "      <td>53</td>\n",
       "      <td>10</td>\n",
       "      <td>13</td>\n",
       "      <td>3</td>\n",
       "      <td>0</td>\n",
       "      <td>...</td>\n",
       "      <td>1.000000</td>\n",
       "      <td>0.000000</td>\n",
       "      <td>0.0</td>\n",
       "      <td>0.222667</td>\n",
       "      <td>0.262667</td>\n",
       "      <td>0.390000</td>\n",
       "      <td>0.652333</td>\n",
       "      <td>6.333333</td>\n",
       "      <td>16.000000</td>\n",
       "      <td>0.666667</td>\n",
       "    </tr>\n",
       "  </tbody>\n",
       "</table>\n",
       "<p>5 rows × 58 columns</p>\n",
       "</div>"
      ],
      "text/plain": [
       "             Team   Date  Opp    Rslt  plate_app  at_bats  runs_scored  hits  \\\n",
       "0  Arizona Dbacks  1-Apr  SDP   L,7-8         41       40            7    12   \n",
       "1  Arizona Dbacks  2-Apr  SDP   L,2-4         38       36            2     8   \n",
       "2  Arizona Dbacks  3-Apr  SDP   L,0-7         30       30            0     4   \n",
       "3  Arizona Dbacks  4-Apr  SDP   W,3-1         38       32            3     6   \n",
       "4  Arizona Dbacks  6-Apr  COL  W,10-8         57       53           10    13   \n",
       "\n",
       "   doubles  triples  ...  roll_double_plays  roll_stolen_bases  \\\n",
       "0        3        0  ...           0.000000           0.000000   \n",
       "1        1        0  ...           0.500000           0.500000   \n",
       "2        0        0  ...           0.666667           0.333333   \n",
       "3        1        1  ...           1.333333           0.333333   \n",
       "4        3        0  ...           1.000000           0.000000   \n",
       "\n",
       "   roll_caught_stealing  roll_batting_avg  roll_OBP  roll_SLG  roll_OPS  \\\n",
       "0                   0.0          0.300000  0.317000  0.675000  0.992000   \n",
       "1                   0.0          0.281500  0.304000  0.594000  0.898000   \n",
       "2                   0.0          0.263000  0.285333  0.531333  0.816333   \n",
       "3                   0.0          0.235333  0.268000  0.432000  0.699667   \n",
       "4                   0.0          0.222667  0.262667  0.390000  0.652333   \n",
       "\n",
       "   roll_left_on_base  roll_num_players_used  roll_is_win  \n",
       "0           7.000000              16.000000     0.000000  \n",
       "1           8.000000              16.500000     0.000000  \n",
       "2           6.333333              15.333333     0.000000  \n",
       "3           6.666667              15.333333     0.333333  \n",
       "4           6.333333              16.000000     0.666667  \n",
       "\n",
       "[5 rows x 58 columns]"
      ]
     },
     "execution_count": 7,
     "metadata": {},
     "output_type": "execute_result"
    }
   ],
   "source": [
    "df.head()"
   ]
  },
  {
   "cell_type": "markdown",
   "id": "eb60ad4f",
   "metadata": {},
   "source": [
    "### Univariate Exploration"
   ]
  },
  {
   "cell_type": "markdown",
   "id": "424181aa",
   "metadata": {},
   "source": [
    "Let's take a quick look at the distribution of all the baseball stats in our dataframe.\n",
    "\n"
   ]
  },
  {
   "cell_type": "code",
   "execution_count": 8,
   "id": "760dffef",
   "metadata": {},
   "outputs": [
    {
     "data": {
      "image/png": "[encoded data removed]",
      "text/plain": [
       "<Figure size 2880x1440 with 104 Axes>"
      ]
     },
     "metadata": {
      "needs_background": "light"
     },
     "output_type": "display_data"
    }
   ],
   "source": [
    "# draw hist\n",
    "fig, axes = plt.subplots(13,4, figsize=(40,20))\n",
    "df.plot(kind='hist', subplots=True, ax=axes, alpha=0.5)\n",
    "\n",
    "# clone axes so they have different scales\n",
    "ax_new = [ax.twinx() for ax in axes.flatten()]\n",
    "df.plot(kind='kde', ax=ax_new, subplots=True)\n",
    "plt.show()"
   ]
  },
  {
   "cell_type": "code",
   "execution_count": 9,
   "id": "016943f1",
   "metadata": {},
   "outputs": [
    {
     "data": {
      "text/plain": [
       "(2429, 4858)"
      ]
     },
     "execution_count": 9,
     "metadata": {},
     "output_type": "execute_result"
    }
   ],
   "source": [
    "#Take a look at the target variable \n",
    "df.is_win.sum(), df.shape[0]\n"
   ]
  },
  {
   "cell_type": "code",
   "execution_count": 10,
   "id": "1252d305",
   "metadata": {},
   "outputs": [
    {
     "data": {
      "text/plain": [
       "Text(0.5, 1.0, 'Histogram of Runs Scored')"
      ]
     },
     "execution_count": 10,
     "metadata": {},
     "output_type": "execute_result"
    },
    {
     "data": {
      "image/png": "[encoded data removed]",
      "text/plain": [
       "<Figure size 432x288 with 1 Axes>"
      ]
     },
     "metadata": {
      "needs_background": "light"
     },
     "output_type": "display_data"
    }
   ],
   "source": [
    "df.runs_scored.hist()\n",
    "plt.title(\"Histogram of Runs Scored\")"
   ]
  },
  {
   "cell_type": "code",
   "execution_count": 11,
   "id": "f6ae5eae",
   "metadata": {},
   "outputs": [
    {
     "data": {
      "text/plain": [
       "count    4858.000000\n",
       "mean        4.530671\n",
       "std         3.184529\n",
       "min         0.000000\n",
       "25%         2.000000\n",
       "50%         4.000000\n",
       "75%         6.000000\n",
       "max        24.000000\n",
       "Name: runs_scored, dtype: float64"
      ]
     },
     "execution_count": 11,
     "metadata": {},
     "output_type": "execute_result"
    }
   ],
   "source": [
    "df.runs_scored.describe()"
   ]
  },
  {
   "cell_type": "markdown",
   "id": "ca1c4629",
   "metadata": {},
   "source": [
    "- Majority of games had less than 7 runs scored\n"
   ]
  },
  {
   "cell_type": "code",
   "execution_count": 12,
   "id": "e053fffd",
   "metadata": {},
   "outputs": [
    {
     "data": {
      "text/plain": [
       "Text(0.5, 1.0, 'Histogram of At Bats')"
      ]
     },
     "execution_count": 12,
     "metadata": {},
     "output_type": "execute_result"
    },
    {
     "data": {
      "image/png": "[encoded data removed]",
      "text/plain": [
       "<Figure size 432x288 with 1 Axes>"
      ]
     },
     "metadata": {
      "needs_background": "light"
     },
     "output_type": "display_data"
    }
   ],
   "source": [
    "df.at_bats.hist()\n",
    "plt.title(\"Histogram of At Bats\")"
   ]
  },
  {
   "cell_type": "code",
   "execution_count": 13,
   "id": "12694a1d",
   "metadata": {},
   "outputs": [
    {
     "data": {
      "text/plain": [
       "count    4858.000000\n",
       "mean       33.334911\n",
       "std         4.051859\n",
       "min        17.000000\n",
       "25%        31.000000\n",
       "50%        33.000000\n",
       "75%        36.000000\n",
       "max        57.000000\n",
       "Name: at_bats, dtype: float64"
      ]
     },
     "execution_count": 13,
     "metadata": {},
     "output_type": "execute_result"
    }
   ],
   "source": [
    "df.at_bats.describe()"
   ]
  },
  {
   "cell_type": "markdown",
   "id": "b1e52f36",
   "metadata": {},
   "source": [
    "- Most games had between 28-37 player at bats.\n"
   ]
  },
  {
   "cell_type": "code",
   "execution_count": 14,
   "id": "b5ab5aaa",
   "metadata": {},
   "outputs": [
    {
     "data": {
      "text/plain": [
       "Text(0.5, 1.0, 'Histogram of Hits')"
      ]
     },
     "execution_count": 14,
     "metadata": {},
     "output_type": "execute_result"
    },
    {
     "data": {
      "image/png": "[encoded data removed]",
      "text/plain": [
       "<Figure size 432x288 with 1 Axes>"
      ]
     },
     "metadata": {
      "needs_background": "light"
     },
     "output_type": "display_data"
    }
   ],
   "source": [
    "df.hits.hist()\n",
    "plt.title(\"Histogram of Hits\")"
   ]
  },
  {
   "cell_type": "code",
   "execution_count": 15,
   "id": "91f62083",
   "metadata": {},
   "outputs": [
    {
     "data": {
      "text/plain": [
       "count    4858.000000\n",
       "mean        8.127007\n",
       "std         3.324612\n",
       "min         0.000000\n",
       "25%         6.000000\n",
       "50%         8.000000\n",
       "75%        10.000000\n",
       "max        22.000000\n",
       "Name: hits, dtype: float64"
      ]
     },
     "execution_count": 15,
     "metadata": {},
     "output_type": "execute_result"
    }
   ],
   "source": [
    "df.hits.describe()\n"
   ]
  },
  {
   "cell_type": "markdown",
   "id": "ba4f1468",
   "metadata": {},
   "source": [
    "- Most games had about 8 hits.\n"
   ]
  },
  {
   "cell_type": "code",
   "execution_count": 16,
   "id": "e215a3df",
   "metadata": {},
   "outputs": [
    {
     "data": {
      "text/plain": [
       "Text(0.5, 1.0, 'Histogram of Doubles ')"
      ]
     },
     "execution_count": 16,
     "metadata": {},
     "output_type": "execute_result"
    },
    {
     "data": {
      "image/png": "[encoded data removed]",
      "text/plain": [
       "<Figure size 432x288 with 1 Axes>"
      ]
     },
     "metadata": {
      "needs_background": "light"
     },
     "output_type": "display_data"
    }
   ],
   "source": [
    "df.doubles.hist()\n",
    "plt.title(\"Histogram of Doubles \")"
   ]
  },
  {
   "cell_type": "code",
   "execution_count": 17,
   "id": "de352e3e",
   "metadata": {},
   "outputs": [
    {
     "data": {
      "text/plain": [
       "count    4858.000000\n",
       "mean        1.618567\n",
       "std         1.340229\n",
       "min         0.000000\n",
       "25%         1.000000\n",
       "50%         1.000000\n",
       "75%         2.000000\n",
       "max         9.000000\n",
       "Name: doubles, dtype: float64"
      ]
     },
     "execution_count": 17,
     "metadata": {},
     "output_type": "execute_result"
    }
   ],
   "source": [
    "df.doubles.describe()"
   ]
  },
  {
   "cell_type": "markdown",
   "id": "26524ac6",
   "metadata": {},
   "source": [
    "- Most games had either one or two doubles.\n"
   ]
  },
  {
   "cell_type": "code",
   "execution_count": 18,
   "id": "a27e3d7c",
   "metadata": {},
   "outputs": [
    {
     "data": {
      "text/plain": [
       "Text(0.5, 1.0, 'Histogram of Triples Scored')"
      ]
     },
     "execution_count": 18,
     "metadata": {},
     "output_type": "execute_result"
    },
    {
     "data": {
      "image/png": "[encoded data removed]",
      "text/plain": [
       "<Figure size 432x288 with 1 Axes>"
      ]
     },
     "metadata": {
      "needs_background": "light"
     },
     "output_type": "display_data"
    }
   ],
   "source": [
    "df.triples.hist()\n",
    "plt.title(\"Histogram of Triples Scored\")"
   ]
  },
  {
   "cell_type": "code",
   "execution_count": 19,
   "id": "381d9ac0",
   "metadata": {},
   "outputs": [
    {
     "data": {
      "text/plain": [
       "0    4242\n",
       "1     562\n",
       "2      54\n",
       "Name: triples, dtype: int64"
      ]
     },
     "execution_count": 19,
     "metadata": {},
     "output_type": "execute_result"
    }
   ],
   "source": [
    "df.triples.value_counts()"
   ]
  },
  {
   "cell_type": "markdown",
   "id": "3f2634a7",
   "metadata": {},
   "source": [
    "- Most games did not have a triple in the game.\n"
   ]
  },
  {
   "cell_type": "code",
   "execution_count": 20,
   "id": "1509639c",
   "metadata": {},
   "outputs": [
    {
     "data": {
      "text/plain": [
       "Text(0.5, 1.0, 'Histogram of Homeruns')"
      ]
     },
     "execution_count": 20,
     "metadata": {},
     "output_type": "execute_result"
    },
    {
     "data": {
      "image/png": "[encoded data removed]",
      "text/plain": [
       "<Figure size 432x288 with 1 Axes>"
      ]
     },
     "metadata": {
      "needs_background": "light"
     },
     "output_type": "display_data"
    }
   ],
   "source": [
    "df.HR.hist()\n",
    "plt.title(\"Histogram of Homeruns\")"
   ]
  },
  {
   "cell_type": "code",
   "execution_count": 21,
   "id": "03c75c14",
   "metadata": {},
   "outputs": [
    {
     "data": {
      "text/plain": [
       "count    4858.000000\n",
       "mean        1.223549\n",
       "std         1.182470\n",
       "min         0.000000\n",
       "25%         0.000000\n",
       "50%         1.000000\n",
       "75%         2.000000\n",
       "max         8.000000\n",
       "Name: HR, dtype: float64"
      ]
     },
     "execution_count": 21,
     "metadata": {},
     "output_type": "execute_result"
    }
   ],
   "source": [
    "df.HR.describe()\n"
   ]
  },
  {
   "cell_type": "markdown",
   "id": "76119cde",
   "metadata": {},
   "source": [
    "- About a third of the games had one homerun. Very few games had more than 5 homeruns."
   ]
  },
  {
   "cell_type": "code",
   "execution_count": 22,
   "id": "0c2a7285",
   "metadata": {},
   "outputs": [
    {
     "data": {
      "text/plain": [
       "Text(0.5, 1.0, 'Histogram of Runs Batted In')"
      ]
     },
     "execution_count": 22,
     "metadata": {},
     "output_type": "execute_result"
    },
    {
     "data": {
      "image/png": "[encoded data removed]",
      "text/plain": [
       "<Figure size 432x288 with 1 Axes>"
      ]
     },
     "metadata": {
      "needs_background": "light"
     },
     "output_type": "display_data"
    }
   ],
   "source": [
    "df.RBI.hist()\n",
    "plt.title(\"Histogram of Runs Batted In\")"
   ]
  },
  {
   "cell_type": "code",
   "execution_count": 23,
   "id": "5b66ba01",
   "metadata": {},
   "outputs": [
    {
     "data": {
      "text/plain": [
       "count    4858.000000\n",
       "mean        4.321326\n",
       "std         3.103705\n",
       "min         0.000000\n",
       "25%         2.000000\n",
       "50%         4.000000\n",
       "75%         6.000000\n",
       "max        23.000000\n",
       "Name: RBI, dtype: float64"
      ]
     },
     "execution_count": 23,
     "metadata": {},
     "output_type": "execute_result"
    }
   ],
   "source": [
    "df.RBI.describe()"
   ]
  },
  {
   "cell_type": "markdown",
   "id": "526114b3",
   "metadata": {},
   "source": [
    "- Most games have under 9 runs batted in per game.\n"
   ]
  },
  {
   "cell_type": "code",
   "execution_count": 24,
   "id": "cc9e2c09",
   "metadata": {},
   "outputs": [
    {
     "data": {
      "text/plain": [
       "Text(0.5, 1.0, 'Histogram of Batting Average')"
      ]
     },
     "execution_count": 24,
     "metadata": {},
     "output_type": "execute_result"
    },
    {
     "data": {
      "image/png": "[encoded data removed]",
      "text/plain": [
       "<Figure size 432x288 with 1 Axes>"
      ]
     },
     "metadata": {
      "needs_background": "light"
     },
     "output_type": "display_data"
    }
   ],
   "source": [
    "df.batting_avg.hist()\n",
    "plt.title(\"Histogram of Batting Average\")"
   ]
  },
  {
   "cell_type": "code",
   "execution_count": 25,
   "id": "76b6c2be",
   "metadata": {},
   "outputs": [
    {
     "data": {
      "text/plain": [
       "count    4858.000000\n",
       "mean        0.238875\n",
       "std         0.018086\n",
       "min         0.069000\n",
       "25%         0.231000\n",
       "50%         0.238000\n",
       "75%         0.247000\n",
       "max         0.417000\n",
       "Name: batting_avg, dtype: float64"
      ]
     },
     "execution_count": 25,
     "metadata": {},
     "output_type": "execute_result"
    }
   ],
   "source": [
    "df.batting_avg.describe()"
   ]
  },
  {
   "cell_type": "markdown",
   "id": "7140f583",
   "metadata": {},
   "source": [
    "- Most teams have a batting average between 0.2 and 0.25"
   ]
  },
  {
   "cell_type": "code",
   "execution_count": 26,
   "id": "c97b76d5",
   "metadata": {},
   "outputs": [
    {
     "data": {
      "text/plain": [
       "<AxesSubplot:>"
      ]
     },
     "execution_count": 26,
     "metadata": {},
     "output_type": "execute_result"
    },
    {
     "data": {
      "image/png": "[encoded data removed]",
      "text/plain": [
       "<Figure size 432x288 with 1 Axes>"
      ]
     },
     "metadata": {
      "needs_background": "light"
     },
     "output_type": "display_data"
    }
   ],
   "source": [
    "df.OBP.hist()\n"
   ]
  },
  {
   "cell_type": "code",
   "execution_count": 27,
   "id": "85dee0a5",
   "metadata": {},
   "outputs": [
    {
     "data": {
      "text/plain": [
       "count    4858.000000\n",
       "mean        0.314458\n",
       "std         0.019108\n",
       "min         0.129000\n",
       "25%         0.304000\n",
       "50%         0.315000\n",
       "75%         0.324000\n",
       "max         0.522000\n",
       "Name: OBP, dtype: float64"
      ]
     },
     "execution_count": 27,
     "metadata": {},
     "output_type": "execute_result"
    }
   ],
   "source": [
    "df.OBP.describe()\n"
   ]
  },
  {
   "cell_type": "markdown",
   "id": "2bc70a3c",
   "metadata": {},
   "source": [
    "- Most teams have an On Base Percentage of about 0.30\n"
   ]
  },
  {
   "cell_type": "code",
   "execution_count": 28,
   "id": "483ec3a6",
   "metadata": {},
   "outputs": [
    {
     "data": {
      "text/plain": [
       "<AxesSubplot:>"
      ]
     },
     "execution_count": 28,
     "metadata": {},
     "output_type": "execute_result"
    },
    {
     "data": {
      "image/png": "[encoded data removed]",
      "text/plain": [
       "<Figure size 432x288 with 1 Axes>"
      ]
     },
     "metadata": {
      "needs_background": "light"
     },
     "output_type": "display_data"
    }
   ],
   "source": [
    "df.OPS.hist()"
   ]
  },
  {
   "cell_type": "code",
   "execution_count": 29,
   "id": "a7859952",
   "metadata": {},
   "outputs": [
    {
     "data": {
      "text/plain": [
       "count    4858.000000\n",
       "mean        0.714809\n",
       "std         0.048638\n",
       "min         0.229000\n",
       "25%         0.687000\n",
       "50%         0.712000\n",
       "75%         0.747000\n",
       "max         1.138000\n",
       "Name: OPS, dtype: float64"
      ]
     },
     "execution_count": 29,
     "metadata": {},
     "output_type": "execute_result"
    }
   ],
   "source": [
    "df.OPS.describe()"
   ]
  },
  {
   "cell_type": "markdown",
   "id": "6e1ffbe6",
   "metadata": {},
   "source": [
    "- Most team have an On Base + Slugging Percentage of about 0.7.\n"
   ]
  },
  {
   "cell_type": "code",
   "execution_count": 30,
   "id": "56a20645",
   "metadata": {},
   "outputs": [
    {
     "data": {
      "text/plain": [
       "<AxesSubplot:>"
      ]
     },
     "execution_count": 30,
     "metadata": {},
     "output_type": "execute_result"
    },
    {
     "data": {
      "image/png": "[encoded data removed]",
      "text/plain": [
       "<Figure size 432x288 with 1 Axes>"
      ]
     },
     "metadata": {
      "needs_background": "light"
     },
     "output_type": "display_data"
    }
   ],
   "source": [
    "df.SLG.hist()"
   ]
  },
  {
   "cell_type": "code",
   "execution_count": 31,
   "id": "738035a1",
   "metadata": {},
   "outputs": [
    {
     "data": {
      "text/plain": [
       "count    4858.000000\n",
       "mean        0.400348\n",
       "std         0.033317\n",
       "min         0.100000\n",
       "25%         0.381000\n",
       "50%         0.399000\n",
       "75%         0.420000\n",
       "max         0.675000\n",
       "Name: SLG, dtype: float64"
      ]
     },
     "execution_count": 31,
     "metadata": {},
     "output_type": "execute_result"
    }
   ],
   "source": [
    "df.SLG.describe()"
   ]
  },
  {
   "cell_type": "markdown",
   "id": "e55ac235",
   "metadata": {},
   "source": [
    "- Most teams have a Slugging Percentage (Total bases / At Bats) of about 0.4\n"
   ]
  },
  {
   "cell_type": "code",
   "execution_count": 32,
   "id": "b3e51fc8",
   "metadata": {},
   "outputs": [
    {
     "data": {
      "text/plain": [
       "<AxesSubplot:>"
      ]
     },
     "execution_count": 32,
     "metadata": {},
     "output_type": "execute_result"
    },
    {
     "data": {
      "image/png": "[encoded data removed]",
      "text/plain": [
       "<Figure size 432x288 with 1 Axes>"
      ]
     },
     "metadata": {
      "needs_background": "light"
     },
     "output_type": "display_data"
    }
   ],
   "source": [
    "df.num_players_used.hist()"
   ]
  },
  {
   "cell_type": "code",
   "execution_count": 33,
   "id": "3407dd98",
   "metadata": {},
   "outputs": [
    {
     "data": {
      "text/plain": [
       "count    4858.000000\n",
       "mean       12.621655\n",
       "std         3.007252\n",
       "min         9.000000\n",
       "25%        10.000000\n",
       "50%        12.000000\n",
       "75%        15.000000\n",
       "max        25.000000\n",
       "Name: num_players_used, dtype: float64"
      ]
     },
     "execution_count": 33,
     "metadata": {},
     "output_type": "execute_result"
    }
   ],
   "source": [
    "df.num_players_used.describe()"
   ]
  },
  {
   "cell_type": "markdown",
   "id": "bc29d44c",
   "metadata": {},
   "source": [
    "- Most games used about 12 players"
   ]
  },
  {
   "cell_type": "code",
   "execution_count": 34,
   "id": "245319bf",
   "metadata": {},
   "outputs": [
    {
     "data": {
      "text/plain": [
       "<AxesSubplot:>"
      ]
     },
     "execution_count": 34,
     "metadata": {},
     "output_type": "execute_result"
    },
    {
     "data": {
      "image/png": "[encoded data removed]",
      "text/plain": [
       "<Figure size 432x288 with 1 Axes>"
      ]
     },
     "metadata": {
      "needs_background": "light"
     },
     "output_type": "display_data"
    }
   ],
   "source": [
    "df.handedness_opp_pitcher.hist()"
   ]
  },
  {
   "cell_type": "markdown",
   "id": "8582fc76",
   "metadata": {},
   "source": [
    "- Most teams have right-handed pitchers.\n"
   ]
  },
  {
   "cell_type": "code",
   "execution_count": 35,
   "id": "85f4a9e7",
   "metadata": {},
   "outputs": [
    {
     "data": {
      "text/plain": [
       "<AxesSubplot:>"
      ]
     },
     "execution_count": 35,
     "metadata": {},
     "output_type": "execute_result"
    },
    {
     "data": {
      "image/png": "[encoded data removed]",
      "text/plain": [
       "<Figure size 432x288 with 1 Axes>"
      ]
     },
     "metadata": {
      "needs_background": "light"
     },
     "output_type": "display_data"
    }
   ],
   "source": [
    "df.made_playoffs.hist()"
   ]
  },
  {
   "cell_type": "code",
   "execution_count": 36,
   "id": "31284ec2",
   "metadata": {},
   "outputs": [
    {
     "data": {
      "text/plain": [
       "Team\n",
       "Atlanta Braves         1\n",
       "Boston Red Sox         1\n",
       "Chicago White Sox      1\n",
       "Houston Astros         1\n",
       "L.A. Dodgers           1\n",
       "Milwaukee Brewers      1\n",
       "N.Y. Yankees           1\n",
       "S.F. Giants            1\n",
       "St. Louis Cardinals    1\n",
       "Tampa Bay Rays         1\n",
       "Name: made_playoffs, dtype: int64"
      ]
     },
     "execution_count": 36,
     "metadata": {},
     "output_type": "execute_result"
    }
   ],
   "source": [
    "pf = df[df['made_playoffs']==1]\n",
    "pf.groupby(\"Team\").made_playoffs.nunique()"
   ]
  },
  {
   "cell_type": "markdown",
   "id": "508ddf33",
   "metadata": {},
   "source": [
    "- 10 teams made the playoffs out of the 30 teams in MLB.\n"
   ]
  },
  {
   "cell_type": "markdown",
   "id": "8ebdbb28",
   "metadata": {},
   "source": [
    "# Split Data into Train, Validate, and Test Sets"
   ]
  },
  {
   "cell_type": "markdown",
   "id": "2ffad703",
   "metadata": {},
   "source": [
    "### Before exploring relationships between two or more variables, we will split the data into train, validate, and test sets."
   ]
  },
  {
   "cell_type": "code",
   "execution_count": 37,
   "id": "fed46926",
   "metadata": {},
   "outputs": [
    {
     "data": {
      "text/plain": [
       "((2720, 58), (1166, 58), (972, 58))"
      ]
     },
     "execution_count": 37,
     "metadata": {},
     "output_type": "execute_result"
    }
   ],
   "source": [
    "train, validate, test = prepare.train_validate_test_split(df, 'is_win', seed=123)\n",
    "train.shape, validate.shape, test.shape"
   ]
  },
  {
   "cell_type": "markdown",
   "id": "6b36fa1a",
   "metadata": {},
   "source": [
    "### Bivariate Exploration"
   ]
  },
  {
   "cell_type": "code",
   "execution_count": 38,
   "id": "ff3cae39",
   "metadata": {},
   "outputs": [],
   "source": [
    "cat_vars = ['Team', 'is_away','made_playoffs']\n",
    "quant_vars = ['hits', 'doubles', 'triples', 'HR', 'RBI', 'bases_on_balls', 'OPS', 'SLG', 'OBP']"
   ]
  },
  {
   "cell_type": "code",
   "execution_count": 39,
   "id": "9b5b86c3",
   "metadata": {},
   "outputs": [],
   "source": [
    "cat_vars = cat_vars[1:]"
   ]
  },
  {
   "cell_type": "code",
   "execution_count": null,
   "id": "34505f0e",
   "metadata": {},
   "outputs": [
    {
     "name": "stdout",
     "output_type": "stream",
     "text": [
      "is_away \n",
      "_____________________\n",
      "\n",
      "        chi2   p-value  degrees of freedom\n",
      "0  18.119745  0.000021                   1\n",
      "\n",
      "observed:\n",
      " is_win      0     1   All\n",
      "is_away                  \n",
      "0         620   732  1352\n",
      "1         740   628  1368\n",
      "All      1360  1360  2720\n",
      "\n",
      "expected:\n",
      "        0      1\n",
      "0  676.0  676.0\n",
      "1  684.0  684.0\n"
     ]
    },
    {
     "data": {
      "image/png": "[encoded data removed]",
      "text/plain": [
       "<Figure size 144x144 with 1 Axes>"
      ]
     },
     "metadata": {
      "needs_background": "light"
     },
     "output_type": "display_data"
    },
    {
     "name": "stdout",
     "output_type": "stream",
     "text": [
      "\n",
      "_____________________\n",
      "\n",
      "made_playoffs \n",
      "_____________________\n",
      "\n",
      "        chi2       p-value  degrees of freedom\n",
      "0  40.298872  2.179347e-10                   1\n",
      "\n",
      "observed:\n",
      " is_win            0     1   All\n",
      "made_playoffs                  \n",
      "0               986   829  1815\n",
      "1               374   531   905\n",
      "All            1360  1360  2720\n",
      "\n",
      "expected:\n",
      "        0      1\n",
      "0  907.5  907.5\n",
      "1  452.5  452.5\n"
     ]
    },
    {
     "data": {
      "image/png": "[encoded data removed]",
      "text/plain": [
       "<Figure size 144x144 with 1 Axes>"
      ]
     },
     "metadata": {
      "needs_background": "light"
     },
     "output_type": "display_data"
    },
    {
     "name": "stdout",
     "output_type": "stream",
     "text": [
      "\n",
      "_____________________\n",
      "\n",
      "hits \n",
      "____________________\n",
      "\n"
     ]
    },
    {
     "data": {
      "image/png": "[encoded data removed]",
      "text/plain": [
       "<Figure size 288x288 with 1 Axes>"
      ]
     },
     "metadata": {
      "needs_background": "light"
     },
     "output_type": "display_data"
    },
    {
     "name": "stdout",
     "output_type": "stream",
     "text": [
      "         count      mean       std  min  25%  50%   75%   max\n",
      "is_win                                                       \n",
      "0       1360.0  6.852941  2.753096  0.0  5.0  7.0   9.0  18.0\n",
      "1       1360.0  9.515441  3.288403  2.0  7.0  9.0  12.0  22.0 \n",
      "\n",
      "\n",
      "Mann-Whitney Test:\n",
      " MannwhitneyuResult(statistic=498956.5, pvalue=7.073587228977802e-97)\n",
      "\n",
      "____________________\n",
      "\n",
      "doubles \n",
      "____________________\n",
      "\n"
     ]
    },
    {
     "data": {
      "image/png": "[encoded data removed]",
      "text/plain": [
       "<Figure size 288x288 with 1 Axes>"
      ]
     },
     "metadata": {
      "needs_background": "light"
     },
     "output_type": "display_data"
    },
    {
     "name": "stdout",
     "output_type": "stream",
     "text": [
      "         count      mean       std  min  25%  50%  75%  max\n",
      "is_win                                                     \n",
      "0       1360.0  1.333088  1.133512  0.0  0.0  1.0  2.0  6.0\n",
      "1       1360.0  1.902206  1.450177  0.0  1.0  2.0  3.0  8.0 \n",
      "\n",
      "\n",
      "Mann-Whitney Test:\n",
      " MannwhitneyuResult(statistic=719183.0, pvalue=4.330641872193575e-25)\n",
      "\n",
      "____________________\n",
      "\n",
      "triples \n",
      "____________________\n",
      "\n"
     ]
    },
    {
     "data": {
      "image/png": "[encoded data removed]",
      "text/plain": [
       "<Figure size 288x288 with 1 Axes>"
      ]
     },
     "metadata": {
      "needs_background": "light"
     },
     "output_type": "display_data"
    },
    {
     "name": "stdout",
     "output_type": "stream",
     "text": [
      "         count      mean       std  min  25%  50%  75%  max\n",
      "is_win                                                     \n",
      "0       1360.0  0.111029  0.339062  0.0  0.0  0.0  0.0  2.0\n",
      "1       1360.0  0.183824  0.437435  0.0  0.0  0.0  0.0  2.0 \n",
      "\n",
      "\n",
      "Mann-Whitney Test:\n",
      " MannwhitneyuResult(statistic=868301.0, pvalue=2.8039144160964607e-06)\n",
      "\n",
      "____________________\n",
      "\n",
      "HR \n",
      "____________________\n",
      "\n"
     ]
    },
    {
     "data": {
      "image/png": "[encoded data removed]",
      "text/plain": [
       "<Figure size 288x288 with 1 Axes>"
      ]
     },
     "metadata": {
      "needs_background": "light"
     },
     "output_type": "display_data"
    },
    {
     "name": "stdout",
     "output_type": "stream",
     "text": [
      "         count      mean       std  min  25%  50%  75%  max\n",
      "is_win                                                     \n",
      "0       1360.0  0.835294  0.970160  0.0  0.0  1.0  1.0  7.0\n",
      "1       1360.0  1.643382  1.249589  0.0  1.0  1.0  2.0  8.0 \n",
      "\n",
      "\n",
      "Mann-Whitney Test:\n",
      " MannwhitneyuResult(statistic=561209.0, pvalue=1.785739670702551e-76)\n",
      "\n",
      "____________________\n",
      "\n",
      "RBI \n",
      "____________________\n",
      "\n"
     ]
    },
    {
     "data": {
      "image/png": "[encoded data removed]",
      "text/plain": [
       "<Figure size 288x288 with 1 Axes>"
      ]
     },
     "metadata": {
      "needs_background": "light"
     },
     "output_type": "display_data"
    },
    {
     "name": "stdout",
     "output_type": "stream",
     "text": [
      "         count      mean       std  min  25%  50%  75%   max\n",
      "is_win                                                      \n",
      "0       1360.0  2.679412  2.057707  0.0  1.0  2.0  4.0  14.0\n",
      "1       1360.0  6.042647  2.981859  0.0  4.0  6.0  8.0  18.0 \n",
      "\n",
      "\n",
      "Mann-Whitney Test:\n",
      " MannwhitneyuResult(statistic=306800.0, pvalue=1.9337881633730063e-202)\n",
      "\n",
      "____________________\n",
      "\n",
      "bases_on_balls \n",
      "____________________\n",
      "\n"
     ]
    }
   ],
   "source": [
    "#Use our bivariate function to run comparisons between variables and winning\n",
    "explore.explore_bivariate(train, 'is_win', cat_vars, quant_vars)"
   ]
  },
  {
   "cell_type": "code",
   "execution_count": null,
   "id": "6336accf",
   "metadata": {},
   "outputs": [],
   "source": [
    "playoff_away_subset = train[(train.is_away==1) & (train.made_playoffs==1)]\n",
    "\n",
    "explore.explore_bivariate_quant(playoff_away_subset, 'is_win', 'runs_scored')"
   ]
  },
  {
   "cell_type": "markdown",
   "id": "4a430eb6",
   "metadata": {},
   "source": [
    "- All hitting stats look to be correlated to wins, so let's keep exploring.\n"
   ]
  },
  {
   "cell_type": "code",
   "execution_count": null,
   "id": "8dd4a644",
   "metadata": {},
   "outputs": [],
   "source": [
    "#Take a high level view of how variables relate to each other in light of wins.\n",
    "pair = sns.pairplot(data=train, vars=quant_vars, hue=\"is_win\")\n",
    "plt.show()"
   ]
  },
  {
   "cell_type": "code",
   "execution_count": null,
   "id": "1e0a6ca5",
   "metadata": {},
   "outputs": [],
   "source": [
    "#Let's look at how variables are correlated using Spearman's correlation method\n",
    "corr_train = train[[ 'Team','plate_app', 'at_bats', 'runs_scored',\n",
    "       'hits', 'doubles', 'triples', 'HR', 'RBI', 'bases_on_balls',\n",
    "       'intentional_bb', 'strikeouts', 'hit_by_pitch', 'sac_hits', 'sac_flies',\n",
    "       'reached_on_error', 'double_plays', 'stolen_bases', 'caught_stealing',\n",
    "       'batting_avg', 'OBP', 'SLG', 'OPS', 'left_on_base', 'num_players_used',\n",
    "       'handedness_opp_pitcher', 'is_away', 'is_win','made_playoffs']]\n",
    "\n",
    "\n",
    "corr =  corr_train.corr(method='spearman')"
   ]
  },
  {
   "cell_type": "code",
   "execution_count": null,
   "id": "721f83a4",
   "metadata": {},
   "outputs": [],
   "source": [
    "# Set up the matplotlib figure\n",
    "f, ax = plt.subplots(figsize=(11, 9))\n",
    "\n",
    "# Generate a mask for the upper triangle\n",
    "mask = np.triu(np.ones_like(corr, dtype=bool))\n",
    "\n",
    "# Generate a custom diverging colormap\n",
    "cmap = sns.color_palette(\"coolwarm\", as_cmap=True)\n",
    "\n",
    "# Draw the heatmap with the mask and correct aspect ratio\n",
    "sns.heatmap(corr, mask=mask,cmap=cmap, vmax=.3, center=0,\n",
    "            square=True, linewidths=.5, cbar_kws={\"shrink\": .5})"
   ]
  },
  {
   "cell_type": "markdown",
   "id": "ff5aa5ea",
   "metadata": {},
   "source": [
    "- The strongest correlation between variables is about 0.3 so not strong correlation between variables.\n"
   ]
  },
  {
   "cell_type": "markdown",
   "id": "664a5fac",
   "metadata": {},
   "source": [
    "### Let's see what correlates most with wins by using a heatmap\n"
   ]
  },
  {
   "cell_type": "code",
   "execution_count": null,
   "id": "19769e93",
   "metadata": {},
   "outputs": [],
   "source": [
    "plt.figure(figsize=(8, 12))\n",
    "heatmap = sns.heatmap(train.corr()[['is_win']].sort_values(by='is_win', ascending=False), vmin=-1, vmax=1, annot=True, cmap='coolwarm')\n",
    "heatmap.set_title('Features Correlating with Wins', fontdict={'fontsize':18}, pad=16);"
   ]
  },
  {
   "cell_type": "code",
   "execution_count": null,
   "id": "229ff008",
   "metadata": {},
   "outputs": [],
   "source": [
    "#Look at the correlation with log error\n",
    "corr_log = train.corrwith(train[\"is_win\"])\n",
    "corr_log.max"
   ]
  },
  {
   "cell_type": "code",
   "execution_count": null,
   "id": "a3adbd7d",
   "metadata": {},
   "outputs": [],
   "source": [
    "print(corr_log.sort_values(ascending=False))\n"
   ]
  },
  {
   "cell_type": "markdown",
   "id": "696f7f52",
   "metadata": {},
   "source": [
    "- When looking at correlation with wins, runs scored, runs batted in, number of hits, and homeruns rank highest."
   ]
  },
  {
   "cell_type": "markdown",
   "id": "fedd7b7a",
   "metadata": {},
   "source": [
    "## Hypothesis Testing: Statistical tests to check for independence among features"
   ]
  },
  {
   "cell_type": "markdown",
   "id": "9332ad9a",
   "metadata": {},
   "source": [
    "In order to create a better model, we will test for independence among baseball hitting features and winning to see if that feature should be used for our model. We will use the correlation rankings above to guide our tests.\n",
    "\n"
   ]
  },
  {
   "cell_type": "code",
   "execution_count": null,
   "id": "e5b18712",
   "metadata": {},
   "outputs": [],
   "source": [
    "#Set our alpha\n",
    "alpha = 0.05"
   ]
  },
  {
   "cell_type": "markdown",
   "id": "0feeba2e",
   "metadata": {},
   "source": [
    "## Question 1: Is winning related to number of runs scored?\n",
    "\n",
    "H\n",
    "0\n",
    " : There is no difference between number of runs scored in a winning game and the overall average.\n",
    "\n",
    "H\n",
    "a\n",
    " : There is a difference between number of runs scored in a winning game and the overall average."
   ]
  },
  {
   "cell_type": "code",
   "execution_count": null,
   "id": "2befd8c4",
   "metadata": {},
   "outputs": [],
   "source": [
    "null_hypothesis1 = 'winning is not related to number of runs scored'\n"
   ]
  },
  {
   "cell_type": "code",
   "execution_count": null,
   "id": "9d9dc255",
   "metadata": {},
   "outputs": [],
   "source": [
    "winning_games = train[train.is_win == 1]\n"
   ]
  },
  {
   "cell_type": "code",
   "execution_count": null,
   "id": "93a3d136",
   "metadata": {},
   "outputs": [],
   "source": [
    "t, p = stats.ttest_1samp(winning_games.runs_scored, train.runs_scored.mean())\n",
    "\n",
    "print(f't = {t:.3f}')\n",
    "print(f'p = {p:.3f}')"
   ]
  },
  {
   "cell_type": "code",
   "execution_count": null,
   "id": "17fa43fd",
   "metadata": {},
   "outputs": [],
   "source": [
    "#Was the null hypothesis rejected?\n",
    "\n",
    "prepare.was_hypothesis_rejected(alpha, null_hypothesis1, p)"
   ]
  },
  {
   "cell_type": "code",
   "execution_count": null,
   "id": "d066d089",
   "metadata": {},
   "outputs": [],
   "source": [
    "sns.distplot(train.runs_scored)\n",
    "plt.title('Distribution of Runs Scored by All Teams')"
   ]
  },
  {
   "cell_type": "code",
   "execution_count": null,
   "id": "6fff015c",
   "metadata": {},
   "outputs": [],
   "source": [
    "f, axes = plt.subplots(1, 2,figsize=(14, 6))\n",
    "sns.countplot(x=\"runs_scored\", hue='is_win',data=train , ax=axes[0])\n",
    "axes[0].set_title('Number of Runs in a Game with Game Result')\n",
    "\n",
    "sns.boxplot(x=train[\"runs_scored\"] , ax=axes[1])\n",
    "axes[1].set_title('Boxplot of Number of Hits in a game')\n"
   ]
  },
  {
   "cell_type": "code",
   "execution_count": null,
   "id": "2ad7997b",
   "metadata": {},
   "outputs": [],
   "source": [
    "train.runs_scored.median()\n"
   ]
  },
  {
   "cell_type": "code",
   "execution_count": null,
   "id": "a1c72b1f",
   "metadata": {},
   "outputs": [],
   "source": [
    "wins = train[train['is_win'] == 1]\n",
    "lost = train[train['is_win'] == 0]\n",
    "wins.runs_scored.median(), lost.runs_scored.median()"
   ]
  },
  {
   "cell_type": "code",
   "execution_count": null,
   "id": "cf153eda",
   "metadata": {},
   "outputs": [],
   "source": [
    "- A higher number of runs were scored in winning games.\n",
    "- The median number of runs for all teams is 4.\n",
    "- The median number of runs for teams that win is 5.\n",
    "- The median number of runs for teams that lost is 2."
   ]
  },
  {
   "cell_type": "markdown",
   "id": "72526f55",
   "metadata": {},
   "source": [
    "## Question 2: Does number of hits differ by winning teams?\n",
    "\n",
    "H\n",
    "0\n",
    " : There is no difference between number of hits by winning teams and the overall average.\n",
    "\n",
    "H\n",
    "a\n",
    " : There is a difference between number of hits by winning teams and the overall average.\n"
   ]
  },
  {
   "cell_type": "code",
   "execution_count": null,
   "id": "6d8603c7",
   "metadata": {},
   "outputs": [],
   "source": [
    "null_hypothesis2 = 'winning is not related to number of hits in a game'\n"
   ]
  },
  {
   "cell_type": "code",
   "execution_count": null,
   "id": "9e957795",
   "metadata": {},
   "outputs": [],
   "source": [
    "t, p = stats.ttest_1samp(winning_games.hits, train.hits.mean())\n",
    "\n",
    "print(f't = {t:.3f}')\n",
    "print(f'p = {p:.3f}')"
   ]
  },
  {
   "cell_type": "code",
   "execution_count": null,
   "id": "9ee8ce16",
   "metadata": {},
   "outputs": [],
   "source": [
    "#Was the null hypothesis rejected?\n",
    "\n",
    "prepare.was_hypothesis_rejected(alpha, null_hypothesis2, p)"
   ]
  },
  {
   "cell_type": "code",
   "execution_count": null,
   "id": "98cf0f66",
   "metadata": {},
   "outputs": [],
   "source": [
    "sns.distplot(train.hits)\n",
    "plt.title('Distribution of Hits by All Teams')"
   ]
  },
  {
   "cell_type": "code",
   "execution_count": null,
   "id": "65cc2e85",
   "metadata": {},
   "outputs": [],
   "source": [
    "f, axes = plt.subplots(1, 2,figsize=(16, 6))\n",
    "sns.countplot(x=\"hits\", hue='is_win',data=train, ax=axes[0])\n",
    "axes[0].set_title('Number of Hits in a Game with Game Result')\n",
    "\n",
    "sns.boxplot(x=train[\"hits\"] , ax=axes[1])\n",
    "axes[1].set_title('Boxplot of Hits in a Game')"
   ]
  },
  {
   "cell_type": "code",
   "execution_count": null,
   "id": "46d3daaf",
   "metadata": {},
   "outputs": [],
   "source": [
    "train.hits.mean(), wins.hits.mean(), lost.hits.mean()"
   ]
  },
  {
   "cell_type": "markdown",
   "id": "f81f7156",
   "metadata": {},
   "source": [
    "- Teams that won had a higher number of hits, where teams that lost had less hits.\n",
    "- The average number of hits in a game was 8.0 but was 9.0 for winning teams and 7 for losing teams."
   ]
  },
  {
   "cell_type": "markdown",
   "id": "0c1906f6",
   "metadata": {},
   "source": [
    "## Question 3: Does number of homeruns differ by winning teams?\n",
    "\n",
    "H\n",
    "0\n",
    " : There is no difference between number of homeruns by winning teams and the overall average.\n",
    "\n",
    "H\n",
    "a\n",
    " : There is a difference between number of homeruns by winning teams and the overall average.\n",
    "\n"
   ]
  },
  {
   "cell_type": "code",
   "execution_count": null,
   "id": "20596062",
   "metadata": {},
   "outputs": [],
   "source": [
    "null_hypothesis3 = 'winning is not related to number of homeruns in a game'\n"
   ]
  },
  {
   "cell_type": "code",
   "execution_count": null,
   "id": "c0cd31c9",
   "metadata": {},
   "outputs": [],
   "source": [
    "t, p = stats.ttest_1samp(winning_games.HR, train.HR.mean())\n",
    "\n",
    "print(f't = {t:.3f}')\n",
    "print(f'p = {p:.3f}')"
   ]
  },
  {
   "cell_type": "code",
   "execution_count": null,
   "id": "476be6d6",
   "metadata": {},
   "outputs": [],
   "source": [
    "#Was the null hypothesis rejected?\n",
    "\n",
    "prepare.was_hypothesis_rejected(alpha, null_hypothesis3, p)"
   ]
  },
  {
   "cell_type": "code",
   "execution_count": null,
   "id": "f1be8e00",
   "metadata": {},
   "outputs": [],
   "source": [
    "sns.distplot(train.HR)\n",
    "plt.title('Distribution of Homeruns by All Teams Per Game')"
   ]
  },
  {
   "cell_type": "code",
   "execution_count": null,
   "id": "013c6101",
   "metadata": {},
   "outputs": [],
   "source": [
    "f, axes = plt.subplots(1, 2,figsize=(16, 6))\n",
    "sns.countplot(x=\"HR\", hue='is_win',data=train, ax=axes[0])\n",
    "axes[0].set_title(\"Number of Homeruns By A Team in a Game with Game Result\")\n",
    "\n",
    "sns.boxplot(x=train[\"HR\"] , ax=axes[1])\n",
    "axes[1].set_title('Boxplot of Home Runs in a Game')"
   ]
  },
  {
   "cell_type": "code",
   "execution_count": null,
   "id": "fd8a1580",
   "metadata": {},
   "outputs": [],
   "source": [
    "train.HR.mean(), wins.HR.mean(), lost.HR.mean()\n"
   ]
  },
  {
   "cell_type": "markdown",
   "id": "3ffe1ca9",
   "metadata": {},
   "source": [
    "- Teams with 2 homeruns or more usually won the game.\n",
    "- Teams with 0 homeruns in a game usually lost.\n",
    "- Having one homerun in a game does not mean that team will win.\n",
    "- Teams with high number of homeruns usually won.\n",
    "- All eams had an average of 1 homerun per game while winning teams had about 2 homeruns per game and teams that lost had an average of 1."
   ]
  },
  {
   "cell_type": "markdown",
   "id": "0c815d7f",
   "metadata": {},
   "source": [
    "## Question 4: Is winning related to the number of runs batted in (RBI)?\n",
    "\n",
    "H\n",
    "0\n",
    " : There is no difference between number of runs batted in in a winning game and the overall average.\n",
    "\n",
    "H\n",
    "a\n",
    " : There is a difference between number of runs batted in in a winning game and the overall average.\n",
    "\n"
   ]
  },
  {
   "cell_type": "code",
   "execution_count": null,
   "id": "536a2ae1",
   "metadata": {},
   "outputs": [],
   "source": [
    "null_hypothesis4 = 'winning is not related to number of runs batted in a game'\n"
   ]
  },
  {
   "cell_type": "code",
   "execution_count": null,
   "id": "e386c5e0",
   "metadata": {},
   "outputs": [],
   "source": [
    "t, p = stats.ttest_1samp(winning_games.RBI, train.RBI.mean())\n",
    "\n",
    "print(f't = {t:.3f}')\n",
    "print(f'p = {p:.3f}')"
   ]
  },
  {
   "cell_type": "code",
   "execution_count": null,
   "id": "fc34139a",
   "metadata": {},
   "outputs": [],
   "source": [
    "#Was the null hypothesis rejected?\n",
    "\n",
    "prepare.was_hypothesis_rejected(alpha, null_hypothesis4, p)"
   ]
  },
  {
   "cell_type": "code",
   "execution_count": null,
   "id": "7afba6d0",
   "metadata": {},
   "outputs": [],
   "source": [
    "sns.distplot(train.RBI)\n",
    "plt.title('Distribution of RBIs by All Teams Per Game')"
   ]
  },
  {
   "cell_type": "code",
   "execution_count": null,
   "id": "f636f5ee",
   "metadata": {},
   "outputs": [],
   "source": [
    "f, axes = plt.subplots(1, 2,figsize=(16, 6))\n",
    "ax = sns.countplot(x=\"RBI\", hue='is_win',data=train, ax=axes[0])\n",
    "axes[0].set_title(\"Number of RBIs By A Team in a Game with Game Result\")\n",
    "\n",
    "sns.boxplot(x=train[\"RBI\"] , ax=axes[1])\n",
    "axes[1].set_title('Boxplot of Runs Batted In (RBIs) in a Game')"
   ]
  },
  {
   "cell_type": "code",
   "execution_count": null,
   "id": "84a6252f",
   "metadata": {},
   "outputs": [],
   "source": [
    "train.RBI.mean(), wins.RBI.mean(), lost.RBI.mean()\n"
   ]
  },
  {
   "cell_type": "markdown",
   "id": "584a2c3b",
   "metadata": {},
   "source": [
    "- Teams with few runs batted in usually lost.\n",
    "- Teams are more likely to win with higher number of runs batted in.\n",
    "- Teams are more likely to win if they have 4 or more runs batted in.\n",
    "- Teams can still lose if they have a high number of runs batted in.\n",
    "- All teams had an average RBI of 4 while teams that won that an average RBI of 6 and team that lost had an average RBI of 3."
   ]
  },
  {
   "cell_type": "markdown",
   "id": "75e20316",
   "metadata": {},
   "source": [
    "## Question 5: Is winning related to the number of total appearances at the plate by a player in the game?\n",
    "\n",
    "H\n",
    "0\n",
    " : There is no relationship between winning and the number of plate appearances.\n",
    "\n",
    "H\n",
    "a\n",
    " : There is a relationship between winning and the number of plate appearances.\n",
    "\n"
   ]
  },
  {
   "cell_type": "code",
   "execution_count": null,
   "id": "bd5c3859",
   "metadata": {},
   "outputs": [],
   "source": [
    "null_hypothesis5 = 'winning is not related to number of total plate appearances in a game'\n"
   ]
  },
  {
   "cell_type": "code",
   "execution_count": null,
   "id": "7eb7623a",
   "metadata": {},
   "outputs": [],
   "source": [
    "t, p = stats.ttest_1samp(winning_games.plate_app, train.plate_app.mean())\n",
    "\n",
    "print(f't = {t:.3f}')\n",
    "print(f'p = {p:.3f}')"
   ]
  },
  {
   "cell_type": "code",
   "execution_count": null,
   "id": "9e57b27a",
   "metadata": {},
   "outputs": [],
   "source": [
    "#Was the null hypothesis rejected?\n",
    "\n",
    "prepare.was_hypothesis_rejected(alpha, null_hypothesis5, p)"
   ]
  },
  {
   "cell_type": "code",
   "execution_count": null,
   "id": "8099b571",
   "metadata": {},
   "outputs": [],
   "source": [
    "sns.distplot(train.plate_app)\n",
    "plt.title('Distribution of Plate Appearances by All Teams Per Game')"
   ]
  },
  {
   "cell_type": "code",
   "execution_count": null,
   "id": "fc9d02bd",
   "metadata": {},
   "outputs": [],
   "source": [
    "#Create subplot space to create two plots\n",
    "f, axes = plt.subplots(1, 2,figsize=(20, 6))\n",
    "g = sns.countplot(x=\"plate_app\", hue='is_win',data=train, ax=axes[0])\n",
    "axes[0].set_title(\"Number of Plate Appearances By A Team in a Game with Game Result\")\n",
    "\n",
    "#Only display x tick marks for every 5 on the scale\n",
    "for label in g.get_xticklabels():\n",
    "    if np.int(label.get_text()) % 5 == 0:  \n",
    "        label.set_visible(True)\n",
    "    else:\n",
    "        label.set_visible(False)\n",
    "\n",
    "\n",
    "sns.boxplot(x=train[\"plate_app\"] , ax=axes[1])\n",
    "axes[1].set_title('Boxplot of Plate Appearances By A Team in a Game')\n"
   ]
  },
  {
   "cell_type": "code",
   "execution_count": null,
   "id": "a662a07f",
   "metadata": {},
   "outputs": [],
   "source": [
    "train.plate_app.mean(), wins.plate_app.mean(), lost.plate_app.mean()\n"
   ]
  },
  {
   "cell_type": "markdown",
   "id": "9d0dfa37",
   "metadata": {},
   "source": [
    "- The higher the number of plate appearances by a team, the higher the likelihood of winning.\n",
    "- The average number of plate appearances for all teams was 37 but was 39 for teams that won and 36 for teams that lost."
   ]
  },
  {
   "cell_type": "markdown",
   "id": "ed853f18",
   "metadata": {},
   "source": [
    "## Question 6: Is winning related to the number of doubles that were hit in the game?\n",
    "\n",
    "H\n",
    "0\n",
    " : There is no relationship between winning and the number of doubles in a game.\n",
    "\n",
    "H\n",
    "a\n",
    " : There is a relationship between winning and the number of doubles in a game."
   ]
  },
  {
   "cell_type": "code",
   "execution_count": null,
   "id": "a4d3fa8c",
   "metadata": {},
   "outputs": [],
   "source": [
    "null_hypothesis6 = 'winning is not related to number of doubles hit in a game'\n"
   ]
  },
  {
   "cell_type": "code",
   "execution_count": null,
   "id": "d07daade",
   "metadata": {},
   "outputs": [],
   "source": [
    "t, p = stats.ttest_1samp(winning_games.doubles, train.doubles.mean())\n",
    "\n",
    "print(f't = {t:.3f}')\n",
    "print(f'p = {p:.3f}')\n"
   ]
  },
  {
   "cell_type": "code",
   "execution_count": null,
   "id": "eb374434",
   "metadata": {},
   "outputs": [],
   "source": [
    "#Was the null hypothesis rejected?\n",
    "\n",
    "prepare.was_hypothesis_rejected(alpha, null_hypothesis6, p)"
   ]
  },
  {
   "cell_type": "code",
   "execution_count": null,
   "id": "0908b28a",
   "metadata": {},
   "outputs": [],
   "source": [
    "sns.distplot(train.doubles)\n",
    "plt.title('Distribution of Doubles Per Game')"
   ]
  },
  {
   "cell_type": "code",
   "execution_count": null,
   "id": "5789f527",
   "metadata": {},
   "outputs": [],
   "source": [
    "#Create subplot space to create two plots\n",
    "f, axes = plt.subplots(1, 2,figsize=(16, 6))\n",
    "ax = sns.countplot(x=\"doubles\", hue='is_win',data=train, ax=axes[0])\n",
    "axes[0].set_title(\"Number of Doubles By A Team in a Game with Game Result\")\n",
    "\n",
    "sns.boxplot(x=train[\"plate_app\"] , ax=axes[1])\n",
    "axes[1].set_title('Boxplot of Doubles By A Team in a Game')"
   ]
  },
  {
   "cell_type": "code",
   "execution_count": null,
   "id": "eca1fba6",
   "metadata": {},
   "outputs": [],
   "source": [
    "train.doubles.mean(), wins.doubles.mean(), lost.doubles.mean()\n"
   ]
  },
  {
   "cell_type": "markdown",
   "id": "d2445367",
   "metadata": {},
   "source": [
    "- Teams with 2 or more doubles per game are more likely to win\n",
    "- All teams had an average of 2 doubles per game as did winning teams, but losing teams had an average of 1 double per game."
   ]
  },
  {
   "cell_type": "markdown",
   "id": "57f84c7d",
   "metadata": {},
   "source": [
    "## Question 7: Is winning related to the number of bases that were obtained by being walked by the pitcher?\n",
    "H\n",
    "0\n",
    " : There is no relationship between winning and the number of walks in a game.\n",
    "\n",
    "H\n",
    "a\n",
    " : There is a relationship between winning and the number of walks in a game."
   ]
  },
  {
   "cell_type": "code",
   "execution_count": null,
   "id": "dcd3f099",
   "metadata": {},
   "outputs": [],
   "source": [
    "null_hypothesis7 = 'winning is not related to number of walks in a game'\n"
   ]
  },
  {
   "cell_type": "code",
   "execution_count": null,
   "id": "0b8fa5cd",
   "metadata": {},
   "outputs": [],
   "source": [
    "t, p = stats.ttest_1samp(winning_games.bases_on_balls, train.bases_on_balls.mean())\n",
    "\n",
    "print(f't = {t:.3f}')\n",
    "print(f'p = {p:.3f}')"
   ]
  },
  {
   "cell_type": "code",
   "execution_count": null,
   "id": "6b38baaa",
   "metadata": {},
   "outputs": [],
   "source": [
    "#Was the null hypothesis rejected?\n",
    "\n",
    "prepare.was_hypothesis_rejected(alpha, null_hypothesis7, p)"
   ]
  },
  {
   "cell_type": "code",
   "execution_count": null,
   "id": "0c31f164",
   "metadata": {},
   "outputs": [],
   "source": [
    "sns.distplot(train.RBI)\n",
    "plt.title('Distribution of Walks Per Game')"
   ]
  },
  {
   "cell_type": "code",
   "execution_count": null,
   "id": "51c66a14",
   "metadata": {},
   "outputs": [],
   "source": [
    "#Create subplot space to create two plots\n",
    "f, axes = plt.subplots(1, 2,figsize=(16, 6))\n",
    "ax = sns.countplot(x=\"bases_on_balls\", hue='is_win',data=train, ax=axes[0])\n",
    "axes[0].set_title(\"Number of Bases Obtained By Being Walked in a Game with Game Result\")\n",
    "\n",
    "sns.boxplot(x=train[\"bases_on_balls\"] , ax=axes[1])\n",
    "axes[1].set_title('Boxplot of Walks By A Team in a Game')"
   ]
  },
  {
   "cell_type": "code",
   "execution_count": null,
   "id": "7f7691ac",
   "metadata": {},
   "outputs": [],
   "source": [
    "train.bases_on_balls.mean(), wins.bases_on_balls.mean(), lost.bases_on_balls.mean()\n"
   ]
  },
  {
   "cell_type": "markdown",
   "id": "66dc1e83",
   "metadata": {},
   "source": [
    "- Teams with 4 or more bases on balls are more likely to win.\n",
    "- Teams with 3 or less walks are less likely to win.\n",
    "- All teams had an average of 3 walks per game as did losing teams, but winning teams had an average of 4 walks per game."
   ]
  },
  {
   "cell_type": "markdown",
   "id": "1a71d54a",
   "metadata": {},
   "source": [
    "## Question 8: Is winning related to whether the team is playing away?\n",
    "\n",
    "H\n",
    "0\n",
    " : There is no relationship between winning and a team playing away.\n",
    "\n",
    "H\n",
    "a\n",
    " : There is a relationship between winning and a team playing away."
   ]
  },
  {
   "cell_type": "markdown",
   "id": "65984f6d",
   "metadata": {},
   "source": [
    "### Looking at the two following variables: \n",
    "- is_win (discrete/categorical)\n",
    "- is_away (discrete/categorical)\n",
    "\n",
    "Since they are 2 discrete/categorical variables, we will be using \n",
    "χ\n",
    "2\n",
    " testing\n",
    "\n"
   ]
  },
  {
   "cell_type": "code",
   "execution_count": null,
   "id": "427eb2f3",
   "metadata": {},
   "outputs": [],
   "source": [
    "null_hypothesis8 = \"winning is independent of whether a team is playing away\"\n"
   ]
  },
  {
   "cell_type": "code",
   "execution_count": null,
   "id": "5fdb5391",
   "metadata": {},
   "outputs": [],
   "source": [
    "observed = pd.crosstab(train.is_win, train.is_away)\n",
    "observed"
   ]
  },
  {
   "cell_type": "code",
   "execution_count": null,
   "id": "0217f558",
   "metadata": {},
   "outputs": [],
   "source": [
    "# use stats.chi2_contingency test \n",
    "chi2, p, degf, expected = stats.chi2_contingency(observed)"
   ]
  },
  {
   "cell_type": "code",
   "execution_count": null,
   "id": "586332c8",
   "metadata": {},
   "outputs": [],
   "source": [
    "print(f'chi^2 = {chi2:.4f}')\n",
    "print(f'p     = {p:.4f}')"
   ]
  },
  {
   "cell_type": "code",
   "execution_count": null,
   "id": "8eb26c0c",
   "metadata": {},
   "outputs": [],
   "source": [
    "#Was the null hypothesis rejected?\n",
    "\n",
    "prepare.was_hypothesis_rejected(alpha, null_hypothesis8, p)"
   ]
  },
  {
   "cell_type": "code",
   "execution_count": null,
   "id": "46a5bf03",
   "metadata": {},
   "outputs": [],
   "source": [
    "away_pct= (train.groupby(['is_win'])['is_away']\n",
    "                     .value_counts(normalize=True)\n",
    "                     .rename('percentage')\n",
    "                     .mul(100)\n",
    "                     .reset_index()\n",
    "                     .sort_values('is_away'))\n",
    "p = sns.barplot(x=\"is_away\", y=\"percentage\", hue=\"is_win\", data=away_pct)\n",
    "plt.title(\"Percentage of Game Results\\n Depending on Where Teams Play\")"
   ]
  },
  {
   "cell_type": "markdown",
   "id": "cf4c6bff",
   "metadata": {},
   "source": [
    "- Teams are more likely to lose when they play away\n",
    "- Teams have a higher percentage of winning when they play at their home baseball stadium."
   ]
  },
  {
   "cell_type": "markdown",
   "id": "e43c8427",
   "metadata": {},
   "source": [
    "# Modeling and Evaluation\n",
    "\n",
    "After confirming that all features are correlated to winning, we can now create our models to see which performs best on training data.\n",
    "\n",
    "- Since our target is to predict whether a game was won or lost, we are going to use classification algorithms since we are trying to predict a categorical variable.\n",
    "\n",
    "The plan to create and evaluate our models is the following:\n",
    "\n",
    "- Train (fit, transform, evaluate) multiple models, varying the algorithm and/or hyperparameters used\n",
    "- Establish a baseline accuracy to determine if having a model is better than no model and train and compare at least 3 different models.\n",
    "- Compare evaluation metrics across all the models you train and select the ones you want to evaluate using the validate dataframe.\n",
    "- Choose the best model based on the evaluation of your models using the train and validate datasets,\n",
    "- Test the final model on your out-of-sample data (the testing dataset), summarize the performance, interpret and document results."
   ]
  },
  {
   "cell_type": "markdown",
   "id": "cf38c8bb",
   "metadata": {},
   "source": [
    "## Split the data along the target variable to prepare for use in models¶\n",
    "\n",
    "- Will be using rolling averages of the past 3 games for each team to predict future outcomes since each baseball team usually plays a series of 3-4 games against another team at a time."
   ]
  },
  {
   "cell_type": "code",
   "execution_count": null,
   "id": "6f68c8a7",
   "metadata": {},
   "outputs": [],
   "source": [
    "# create X & y version of train, where y is a series with just the target variable and X are the selected features. \n",
    "\n",
    "X_train = train[['runs_scored','roll_RBI', 'roll_hits', 'roll_HR','roll_plate_app',\n",
    "                 'roll_doubles','roll_bases_on_balls']]\n",
    "y_train = train.is_win\n",
    "\n",
    "X_validate = validate[['runs_scored', 'roll_RBI', 'roll_hits', 'roll_HR','roll_plate_app',\n",
    "                       'roll_doubles','roll_bases_on_balls']]\n",
    "y_validate = validate.is_win\n",
    "\n",
    "X_test = test[['runs_scored', 'roll_RBI', 'roll_hits', 'roll_HR','roll_plate_app',\n",
    "                       'roll_doubles','roll_bases_on_balls']]\n",
    "y_test = test.is_win"
   ]
  },
  {
   "cell_type": "markdown",
   "id": "f94a40ba",
   "metadata": {},
   "source": [
    "- Take a quick look at how our data was split\n"
   ]
  },
  {
   "cell_type": "code",
   "execution_count": null,
   "id": "98185968",
   "metadata": {},
   "outputs": [],
   "source": [
    "X_train.shape, X_validate.shape, X_test.shape\n"
   ]
  },
  {
   "cell_type": "markdown",
   "id": "fd8e0ecc",
   "metadata": {},
   "source": [
    "## Setup the baseline\n"
   ]
  },
  {
   "cell_type": "markdown",
   "id": "bd86b681",
   "metadata": {},
   "source": [
    "The most frequently observed outcome will be our baseline\n",
    "\n"
   ]
  },
  {
   "cell_type": "code",
   "execution_count": null,
   "id": "942ae272",
   "metadata": {},
   "outputs": [],
   "source": [
    "train.is_win.value_counts()"
   ]
  },
  {
   "cell_type": "markdown",
   "id": "a34ea2ad",
   "metadata": {},
   "source": [
    "- Since both probabilities of winning or losing are the same, it does not matter which outcome we choose as our baseline because it is the same.\n",
    "- Will choose 0, or lose, for our baseline outcome to run our model against."
   ]
  },
  {
   "cell_type": "code",
   "execution_count": null,
   "id": "2809c68f",
   "metadata": {},
   "outputs": [],
   "source": [
    "baseline = 0"
   ]
  },
  {
   "cell_type": "code",
   "execution_count": null,
   "id": "41831be7",
   "metadata": {},
   "outputs": [],
   "source": [
    "# Produce a boolean array with True representing a match between the baseline prediction and reality\n",
    "matches_baseline_pred = y_train == 0\n",
    "\n",
    "baseline_accuracy = matches_baseline_pred.mean()\n",
    "print(f\"Baseline accuracy: {round(baseline_accuracy, 2)}\")\n"
   ]
  },
  {
   "cell_type": "markdown",
   "id": "d5875e74",
   "metadata": {},
   "source": [
    "# Decision Tree Model"
   ]
  },
  {
   "cell_type": "markdown",
   "id": "d21f0269",
   "metadata": {},
   "source": [
    "### For a first run at it, let's create the Decision Tree object with max_depth of 3."
   ]
  },
  {
   "cell_type": "code",
   "execution_count": null,
   "id": "f37b795e",
   "metadata": {},
   "outputs": [],
   "source": [
    "clf = DecisionTreeClassifier(max_depth=3, random_state=123)\n"
   ]
  },
  {
   "cell_type": "code",
   "execution_count": null,
   "id": "7dcf8986",
   "metadata": {},
   "outputs": [],
   "source": [
    "#Fit the random forest model to the training data.\n",
    "clf = clf.fit(X_train, y_train)"
   ]
  },
  {
   "cell_type": "code",
   "execution_count": null,
   "id": "f0eda48c",
   "metadata": {},
   "outputs": [],
   "source": [
    "#Use the model to get accuracy on training dataset\n",
    "print('Accuracy of Decision Tree model on training set: {:.2f}'\n",
    "      .format(clf.score(X_train, y_train)))"
   ]
  },
  {
   "cell_type": "code",
   "execution_count": null,
   "id": "b312dc15",
   "metadata": {},
   "outputs": [],
   "source": [
    "# Use the model\n",
    "# We'll evaluate the model's performance on train, first\n",
    "y_predictions = clf.predict(X_train)"
   ]
  },
  {
   "cell_type": "code",
   "execution_count": null,
   "id": "36158238",
   "metadata": {},
   "outputs": [],
   "source": [
    "# Produce the classification report on the actual y values and this model's predicted y values\n",
    "report = classification_report(y_train, y_predictions, output_dict=True)\n",
    "print(\"Tree of 3 depth\")\n",
    "pd.DataFrame(report)"
   ]
  },
  {
   "cell_type": "code",
   "execution_count": null,
   "id": "66d78c7e",
   "metadata": {},
   "outputs": [],
   "source": [
    "#To compare several train and validate data sets, let's run through a range of max_depth values\n",
    "metrics = []\n",
    "\n",
    "for i in range(2, 25):\n",
    "    # Make the model\n",
    "    tree = DecisionTreeClassifier(max_depth=i, random_state=123)\n",
    "\n",
    "    # Fit the model (on train and only train)\n",
    "    tree = tree.fit(X_train, y_train)\n",
    "\n",
    "    # Use the model\n",
    "    # Evaluate the model's performance on train \n",
    "    in_sample_accuracy = tree.score(X_train, y_train)\n",
    "    \n",
    "    out_of_sample_accuracy = tree.score(X_validate, y_validate)\n",
    "\n",
    "    output = {\n",
    "        \"max_depth\": i,\n",
    "        \"train_accuracy\": in_sample_accuracy,\n",
    "        \"validate_accuracy\": out_of_sample_accuracy\n",
    "    }\n",
    "    \n",
    "    metrics.append(output)\n",
    "    \n",
    "dm = pd.DataFrame(metrics)\n",
    "dm[\"difference\"] = dm.train_accuracy - dm.validate_accuracy\n",
    "dm"
   ]
  },
  {
   "cell_type": "code",
   "execution_count": null,
   "id": "7ef92001",
   "metadata": {},
   "outputs": [],
   "source": [
    "# plot the data\n",
    "dm.set_index('max_depth').plot(figsize = (14,8))\n",
    "plt.ylabel('Accuracy')\n",
    "plt.xticks(np.arange(0,25,1))\n",
    "plt.grid()\n"
   ]
  },
  {
   "cell_type": "code",
   "execution_count": null,
   "id": "69049779",
   "metadata": {},
   "outputs": [],
   "source": [
    "# Produce y_predictions that come from the X_validate\n",
    "y_pred = clf.predict(X_validate)\n",
    "\n",
    "# Compare actual y values (from validate) to predicted y_values from the model run on X_validate\n",
    "print(classification_report(y_validate, y_pred))"
   ]
  },
  {
   "cell_type": "markdown",
   "id": "9c2f93fe",
   "metadata": {},
   "source": [
    "### Decision Tree Model Takeaways:\n",
    "\n",
    "- Best Decision Tree Model has an accuracy of 0.977 using the train set using max_depth=24 but is very overfit compared to validate's 0.532 accuracy\n",
    "- Will choose Decision Tree Model with the accuracy of 0.637 using the train set is not overfit with a 0.600 using max_depth=6 and it performed better on validate than on test\n",
    "- Both are higher than the baseline accuracy of 0.5"
   ]
  },
  {
   "cell_type": "markdown",
   "id": "b035a5d1",
   "metadata": {},
   "source": [
    "## Random Forest Model\n",
    "\n",
    "Let's try another machine learning algorithm to compare performance."
   ]
  },
  {
   "cell_type": "code",
   "execution_count": null,
   "id": "99f8c1e9",
   "metadata": {},
   "outputs": [],
   "source": [
    "# Make the model - start with max_depth of 5\n",
    "forest1 = RandomForestClassifier(max_depth=5, random_state=123)\n",
    "\n",
    "# Fit the model (on train and only train)\n",
    "tree1 = forest1.fit(X_train, y_train)\n",
    "\n",
    "# Use the model\n",
    "# We'll evaluate the model's performance on train, first\n",
    "y_predictions = forest1.predict(X_train)\n",
    "\n",
    "# Produce the classification report on the actual y values and this model's predicted y values\n",
    "report = classification_report(y_train, y_predictions, output_dict=True)\n",
    "print(\"Tree of 5 depth\")\n",
    "pd.DataFrame(report)"
   ]
  },
  {
   "cell_type": "code",
   "execution_count": null,
   "id": "4bf70260",
   "metadata": {},
   "outputs": [],
   "source": [
    "# Looking at a range of max_depths, let's compare in-sample to out-of-sample again using Random Forest \n",
    "metrics = []\n",
    "\n",
    "for i in range(2, 25):\n",
    "    # Make the model\n",
    "    forest = RandomForestClassifier(max_depth=i, random_state=123)\n",
    "\n",
    "    # Fit the model (on train and only train)\n",
    "    forest = forest.fit(X_train, y_train)\n",
    "\n",
    "    # Use the model\n",
    "    # We'll evaluate the model's performance on train, first\n",
    "    in_sample_accuracy = forest.score(X_train, y_train)\n",
    "    \n",
    "    out_of_sample_accuracy = forest.score(X_validate, y_validate)\n",
    "\n",
    "    output = {\n",
    "        \"max_depth\": i,\n",
    "        \"train_accuracy\": in_sample_accuracy,\n",
    "        \"validate_accuracy\": out_of_sample_accuracy\n",
    "    }\n",
    "    \n",
    "    metrics.append(output)\n",
    "    \n",
    "dm = pd.DataFrame(metrics)\n",
    "dm[\"difference\"] = dm.train_accuracy - dm.validate_accuracy\n",
    "dm"
   ]
  },
  {
   "cell_type": "code",
   "execution_count": null,
   "id": "c72e24fc",
   "metadata": {},
   "outputs": [],
   "source": [
    "# plot the data\n",
    "dm.set_index('max_depth').plot(figsize = (16,9))\n",
    "plt.ylabel('Accuracy')\n",
    "plt.xticks(np.arange(0,25,1))\n",
    "plt.grid()"
   ]
  },
  {
   "cell_type": "markdown",
   "id": "8bff5e55",
   "metadata": {},
   "source": [
    "### Random Forest Model Takeaways:\n",
    "\n",
    "- Best Random Forest Model has an accuracy of 1.0 onthe train data set but is very overfit comparing to 0.57 on the validate data set\n",
    "- Choosing Random Forest Model with an accuracy of 0.657 on the train data set which is not overfit comparing to 0.600 on the validate data set using max_depth = 6\n",
    "- Both are higher than the baseline accuracy of 0.5"
   ]
  },
  {
   "cell_type": "markdown",
   "id": "4f9d9c8b",
   "metadata": {},
   "source": [
    "## K-Nearest Neighbors Model\n",
    "Trying another algorithm for our machine learning model to compare performance"
   ]
  },
  {
   "cell_type": "code",
   "execution_count": null,
   "id": "203bb821",
   "metadata": {},
   "outputs": [],
   "source": [
    "metrics = []\n",
    "\n",
    "# loop through different values of k\n",
    "for k in range(1, 25):\n",
    "            \n",
    "    # define the thing\n",
    "    knn = KNeighborsClassifier(n_neighbors=k)\n",
    "    \n",
    "    # fit the thing (remember only fit on training data)\n",
    "    knn.fit(X_train, y_train)\n",
    "    \n",
    "    # use the thing (calculate accuracy)\n",
    "    train_accuracy = knn.score(X_train, y_train)\n",
    "    validate_accuracy = knn.score(X_validate, y_validate)\n",
    "    \n",
    "    output = {\n",
    "        \"k\": k,\n",
    "        \"train_accuracy\": train_accuracy,\n",
    "        \"validate_accuracy\": validate_accuracy\n",
    "    }\n",
    "    \n",
    "    metrics.append(output)\n",
    "\n",
    "# make a dataframe\n",
    "results = pd.DataFrame(metrics)\n",
    "    \n",
    "results[\"difference\"] = results.train_accuracy - results.validate_accuracy\n",
    "results"
   ]
  },
  {
   "cell_type": "code",
   "execution_count": null,
   "id": "5de73197",
   "metadata": {},
   "outputs": [],
   "source": [
    "# plot the data\n",
    "results.set_index('k').plot(figsize = (16,9))\n",
    "plt.ylabel('Accuracy')\n",
    "plt.xticks(np.arange(0,21,1))\n",
    "plt.grid()"
   ]
  },
  {
   "cell_type": "markdown",
   "id": "9006dd00",
   "metadata": {},
   "source": [
    "### K-Nearest Neighbors Model Takeaways:\n",
    "\n",
    "- Best KNN Model has an accuracy of 1.0 on the train data set but is very overfit comparing to 0.525 on the validate data set\n",
    "- Choosing KNN Model with an accuracy of 0.631 on the train data set which is not overfit comparing to 0.587 on the validate data set using k = 15\n",
    "- Both are higher than the baseline accuracy of 0.5"
   ]
  },
  {
   "cell_type": "markdown",
   "id": "e572897d",
   "metadata": {},
   "source": [
    "## Run Final Test on Best Model: Random Forest Model on Test Dataset\n",
    "\n",
    "- Choosing Random Forest Model for the best model to use on test because of its highest accuracy in both train and validate with low overfitting.\n",
    "- It consistently returned higher results than the baseline and low differences between train and validate."
   ]
  },
  {
   "cell_type": "code",
   "execution_count": null,
   "id": "bc095bea",
   "metadata": {},
   "outputs": [],
   "source": [
    "# Make the model\n",
    "forest_test = RandomForestClassifier(max_depth=6, random_state=123)\n",
    "\n",
    "# Fit the model (on train and only train)\n",
    "forest_test = forest.fit(X_train, y_train)\n",
    "\n",
    "#Use the model to get accuracy on training dataset\n",
    "print('Accuracy of Random Forest Model on TEST set: {:.2f}'\n",
    "     .format(forest_test.score(X_test, y_test)))"
   ]
  },
  {
   "cell_type": "markdown",
   "id": "c69516ab",
   "metadata": {},
   "source": [
    "### Best Model Final Run: Random Forest Model Takeaways:\n",
    "\n",
    "- Random Forest Model has an accuracy of 58% using out of sample data\n",
    "- This is higher than the baseline accuracy of 50%\n",
    "\n",
    "- Features used for this model included 3 game rolling averages per team for:\n",
    "\n",
    "    - 'roll_runs_scored' - runs scored\n",
    "    - 'roll_RBI' - RBI\n",
    "    - 'roll_hits' - hits per game\n",
    "    - 'roll_HR' - homeruns\n",
    "    - 'roll_plate_app' - total plate appearances\n",
    "    - 'roll_doubles' - doubles\n",
    "    - 'roll_bases_on_balls' - walks or bases on balls\n",
    "\n",
    "- Our model has an accuracy of 58% in predicting Major League Baseball wins which is a 8% improvement over the baseline of 50% accuracy.\n",
    "\n",
    "- Our model does not prove to have a significant improvement over the baseline.\n",
    "\n",
    "- I would like to continue refinining the models by tweaking features used to predict and hyperparameters required for each algorithm."
   ]
  },
  {
   "cell_type": "markdown",
   "id": "db25ff39",
   "metadata": {},
   "source": [
    "# Bonus forecasting model:"
   ]
  },
  {
   "cell_type": "markdown",
   "id": "04ae8398",
   "metadata": {},
   "source": [
    "### Can we predict the score of a baseball game given hitting stats for a game?\n",
    "\n",
    "- Given what we know thus far, we will create a linear regression models to try and predict the number of runs scored in a game based on hitting statistics.\n"
   ]
  },
  {
   "cell_type": "markdown",
   "id": "38a3a128",
   "metadata": {},
   "source": [
    "### Exploration of features in relation to predicting the final runs scored in a game"
   ]
  },
  {
   "cell_type": "markdown",
   "id": "b4d1a835",
   "metadata": {},
   "source": [
    "#### Questions to consider in determining how many runs were scored by a team in a baseball game:\n",
    "\n",
    "- Are there certain features that are drivers of final score in a baseball game?\n",
    "- Do popular baseball player statistics like OPS (On base + slugging percentages), OBP (on base percentage) and SLG (slugging percentage) lead to a good indication of the final score?"
   ]
  },
  {
   "cell_type": "code",
   "execution_count": null,
   "id": "1a91ef80",
   "metadata": {},
   "outputs": [],
   "source": [
    "plt.figure(figsize=(8, 12))\n",
    "heatmap = sns.heatmap(train.corr()[['runs_scored']].sort_values(by='runs_scored', ascending=False), vmin=-1, vmax=1, annot=True, cmap='coolwarm')\n",
    "heatmap.set_title('Features Correlating with Runs Scored', fontdict={'fontsize':18}, pad=16);"
   ]
  },
  {
   "cell_type": "markdown",
   "id": "67740d1f",
   "metadata": {},
   "source": [
    "We can only use rolling averages for features because we are using past data to predict future outcomes, and using non-rolling averages would be using the current game's stats to predict it's outcome. I will run statistical tests to check for independence between the two variables."
   ]
  },
  {
   "cell_type": "markdown",
   "id": "54db2775",
   "metadata": {},
   "source": [
    "# Statistical Testing\n"
   ]
  },
  {
   "cell_type": "markdown",
   "id": "4d571630",
   "metadata": {},
   "source": [
    "## Question 1: Is the RBI of a game related to the final score in the game?\n",
    "\n",
    "H\n",
    "0\n",
    " : There is no relationship between RBI and the final score for a team in a game.\n",
    "\n",
    "H\n",
    "a\n",
    " : There is a relationship between RBI and the final score for a team in a game."
   ]
  },
  {
   "cell_type": "code",
   "execution_count": null,
   "id": "9c7048e5",
   "metadata": {},
   "outputs": [],
   "source": [
    "null_hyp1 = 'there is no relationship between RBI and the final score for a team in a game'\n"
   ]
  },
  {
   "cell_type": "code",
   "execution_count": null,
   "id": "6ca62db2",
   "metadata": {},
   "outputs": [],
   "source": [
    "x = train.RBI\n",
    "y = train.runs_scored\n"
   ]
  },
  {
   "cell_type": "code",
   "execution_count": null,
   "id": "8941ff62",
   "metadata": {},
   "outputs": [],
   "source": [
    "corr, p = stats.pearsonr(x, y)\n",
    "corr, p"
   ]
  },
  {
   "cell_type": "code",
   "execution_count": null,
   "id": "49ed2bca",
   "metadata": {},
   "outputs": [],
   "source": [
    "#Was the null hypothesis rejected?\n",
    "\n",
    "prepare.was_hypothesis_rejected(alpha, null_hyp1, p)"
   ]
  },
  {
   "cell_type": "code",
   "execution_count": null,
   "id": "ddc2ceab",
   "metadata": {},
   "outputs": [],
   "source": [
    "# Set up the matplotlib figure\n",
    "f, ax = plt.subplots(figsize=(7, 5))\n",
    "ax = sns.scatterplot(x=\"RBI\", y=\"runs_scored\", data=train)\n",
    "plt.title('RBIs in a Game vs Final Number of Runs Scored')\n",
    "plt.text(8, 5, f'r = {corr:.3f}')"
   ]
  },
  {
   "cell_type": "markdown",
   "id": "33622a6b",
   "metadata": {},
   "source": [
    "RBI and final number of runs scored in a game show a very linear relationship. Will include in my model.\n",
    "\n"
   ]
  },
  {
   "cell_type": "markdown",
   "id": "53806320",
   "metadata": {},
   "source": [
    "## Question 2: Is the average hits of a team in a game related to the final score in the game?\n",
    "\n",
    "H\n",
    "0\n",
    " : There is no relationship between the average hits of a team and the final score for a team in a game.\n",
    "\n",
    "H\n",
    "a\n",
    " : There is a relationship between the average hits of a team and the final score for a team in a game."
   ]
  },
  {
   "cell_type": "code",
   "execution_count": null,
   "id": "5b9ef2bf",
   "metadata": {},
   "outputs": [],
   "source": [
    "null_hyp2 = 'there is no relationship between hits and the final score for a team in a game'\n"
   ]
  },
  {
   "cell_type": "code",
   "execution_count": null,
   "id": "d43f4d33",
   "metadata": {},
   "outputs": [],
   "source": [
    "x = train.roll_hits\n",
    "y = train.runs_scored"
   ]
  },
  {
   "cell_type": "code",
   "execution_count": null,
   "id": "507cf156",
   "metadata": {},
   "outputs": [],
   "source": [
    "corr, p = stats.spearmanr(x, y)\n",
    "corr, p"
   ]
  },
  {
   "cell_type": "code",
   "execution_count": null,
   "id": "d24a12cd",
   "metadata": {},
   "outputs": [],
   "source": [
    "#Was the null hypothesis rejected?\n",
    "\n",
    "prepare.was_hypothesis_rejected(alpha, null_hyp2, p)"
   ]
  },
  {
   "cell_type": "code",
   "execution_count": null,
   "id": "b0e612d7",
   "metadata": {},
   "outputs": [],
   "source": [
    "# Set up the matplotlib figure\n",
    "ax = sns.scatterplot(x=\"roll_hits\", y=\"runs_scored\", data=train)\n",
    "plt.title('Avg Hits in a Game vs Final Number of Runs Scored')"
   ]
  },
  {
   "cell_type": "markdown",
   "id": "5267537d",
   "metadata": {},
   "source": [
    "- Scatter plot pattern shows to have a linear pattern.\n",
    "- It is shown to be correlated to the final number of runs scored in a game.\n",
    "- I will include it in my model."
   ]
  },
  {
   "cell_type": "markdown",
   "id": "52f5e873",
   "metadata": {},
   "source": [
    "## Question 3: Is the number of plate appearances in a game related to the final score in the game?\n",
    "\n",
    "H\n",
    "0\n",
    " : There is no relationship between the number of plate appearances of a team in a game and the final score.\n",
    "\n",
    "H\n",
    "a\n",
    " : There is a relationship between the number of plate appearances of a team in a game and the final score."
   ]
  },
  {
   "cell_type": "code",
   "execution_count": null,
   "id": "e969f212",
   "metadata": {},
   "outputs": [],
   "source": [
    "null_hyp3 = 'there is no relationship between the number of plate appearances of a team and the final score in a game'\n"
   ]
  },
  {
   "cell_type": "code",
   "execution_count": null,
   "id": "c1074c9e",
   "metadata": {},
   "outputs": [],
   "source": [
    "x = train.roll_plate_app\n",
    "y = train.runs_scored"
   ]
  },
  {
   "cell_type": "code",
   "execution_count": null,
   "id": "cb6555e9",
   "metadata": {},
   "outputs": [],
   "source": [
    "corr, p = stats.spearmanr(x, y)\n",
    "corr, p"
   ]
  },
  {
   "cell_type": "code",
   "execution_count": null,
   "id": "7a969978",
   "metadata": {},
   "outputs": [],
   "source": [
    "#Was the null hypothesis rejected?\n",
    "\n",
    "prepare.was_hypothesis_rejected(alpha, null_hyp3, p)"
   ]
  },
  {
   "cell_type": "code",
   "execution_count": null,
   "id": "3e3abc69",
   "metadata": {},
   "outputs": [],
   "source": [
    "# Set up the matplotlib figure\n",
    "ax = sns.scatterplot(x=\"roll_plate_app\", y=\"runs_scored\", data=train)\n",
    "plt.title('Plate Appearances in a Game vs Final Number of Runs Scored')"
   ]
  },
  {
   "cell_type": "markdown",
   "id": "08f38111",
   "metadata": {},
   "source": [
    "- Most teams have an average between 30 and 45 plate appearances per game.\n",
    "- It rejected the null hypothesis and is correlated to the final number of runs scored in a game.\n",
    "- I will include it in my model to make predictions of final runs scored in a game.\n"
   ]
  },
  {
   "cell_type": "markdown",
   "id": "0b492c92",
   "metadata": {},
   "source": [
    "### Takeaways:\n",
    "\n",
    "- The rolling average number of RBI, number of hits, plate appearances and home runs of a game and the final number of runs scored in a game all regject the null hypothesis that they are not related to final number of runs scored.\n",
    "- All variables seem to have a linear pattern.\n",
    "- I will include those features in my model.\n"
   ]
  },
  {
   "cell_type": "markdown",
   "id": "74134a8f",
   "metadata": {},
   "source": [
    "## Modeling"
   ]
  },
  {
   "cell_type": "code",
   "execution_count": null,
   "id": "38f9c1bb",
   "metadata": {},
   "outputs": [],
   "source": [
    "#In order to start modeling, we need to create out X and y for train, validate and test\n",
    "\n",
    "#Set up x and y\n",
    "X_train = train[[ 'roll_RBI', 'roll_hits', 'roll_plate_app', 'roll_HR']]\n",
    "X_validate = validate[['roll_RBI', 'roll_hits', 'roll_plate_app', 'roll_HR']]\n",
    "X_test = test[['roll_RBI', 'roll_hits', 'roll_plate_app', 'roll_HR']]\n",
    "\n",
    "#Scale the data \n",
    "scaler = StandardScaler()\n",
    "X_train_scaled = scaler.fit_transform(X_train)\n",
    "X_validate_scaled = scaler.transform(X_validate)\n",
    "X_test_scaled = scaler.transform(X_test)\n",
    "\n",
    "y_train = train.runs_scored\n",
    "y_validate = validate.runs_scored\n",
    "y_test = test.runs_scored"
   ]
  },
  {
   "cell_type": "code",
   "execution_count": null,
   "id": "d70cdd9e",
   "metadata": {},
   "outputs": [],
   "source": [
    "# Let's take a look at the target variable - final number of runs scored in a game by a team\n",
    "plt.hist(y_train)\n",
    "plt.title('Distribution of Target(Runs Scored)')\n",
    "plt.show()"
   ]
  },
  {
   "cell_type": "code",
   "execution_count": null,
   "id": "fc22b084",
   "metadata": {},
   "outputs": [],
   "source": [
    "# We need y_train and y_validate to be dataframes to append the new columns with predicted values. \n",
    "y_train = pd.DataFrame(y_train)\n",
    "y_validate = pd.DataFrame(y_validate)\n",
    "y_test = pd.DataFrame(y_test)"
   ]
  },
  {
   "cell_type": "markdown",
   "id": "9348e1c5",
   "metadata": {},
   "source": [
    "### Recursive Feature Engineering\n",
    "\n",
    "Recursive Feature Elimination\n",
    "\n",
    "- Fits a model and eliminates the worst performing features\n",
    "- Looks at all the features together"
   ]
  },
  {
   "cell_type": "code",
   "execution_count": null,
   "id": "4cc1f6ec",
   "metadata": {},
   "outputs": [],
   "source": [
    "rfe = RFE(estimator=LinearRegression(), n_features_to_select=1)\n",
    "rfe.fit(X_train, y_train)\n",
    "rfe.get_support()"
   ]
  },
  {
   "cell_type": "code",
   "execution_count": null,
   "id": "8d53c405",
   "metadata": {},
   "outputs": [],
   "source": [
    "X_train.columns[rfe.get_support()]\n"
   ]
  },
  {
   "cell_type": "code",
   "execution_count": null,
   "id": "585bb57a",
   "metadata": {},
   "outputs": [],
   "source": [
    "pd.Series(rfe.ranking_, index=X_train.columns)\n"
   ]
  },
  {
   "cell_type": "markdown",
   "id": "23365cbd",
   "metadata": {},
   "source": [
    "RBI, home runs, and hits were the top features identified with the recursive feature selection.\n"
   ]
  },
  {
   "cell_type": "markdown",
   "id": "54874fad",
   "metadata": {},
   "source": [
    "## Baseline for Regression Models\n",
    "\n",
    "About the initial baseline:\n",
    "\n",
    "- Before we begin making models, we need to know how well we can estimate (predict) the final error (logerror) without using any features. This is often done by predicting every observation's target value to be the mean or the median. E.g. we could predict every error to be the mean error of all the properties in our training sample. We will try both the mean and the median, see which performs best, and set that evaluation metric value as our baseline performance to beat.\n",
    "- Predict all errors to be , which is equal to the mean of logerror for the training sample. Store in y_train['logerror_mean'].\n",
    "- Predict all final errors to be , which is equal to the median of logerror for the training sample. Store in y_train['logerror_median'].\n",
    "- Compute the RMSE comparing actual final error (logerror) to logerror_mean. Compute the RMSE comparing actual final error (logerror) to logerror_median."
   ]
  },
  {
   "cell_type": "code",
   "execution_count": null,
   "id": "18fe001f",
   "metadata": {},
   "outputs": [],
   "source": [
    "# 1. Predict logerror_pred_mean\n",
    "runs_pred_mean = y_train.runs_scored.mean()\n",
    "y_train['runs_pred_mean'] = runs_pred_mean\n",
    "y_validate['runs_pred_mean'] = runs_pred_mean\n",
    "\n",
    "runs_pred_mean"
   ]
  },
  {
   "cell_type": "code",
   "execution_count": null,
   "id": "4f393550",
   "metadata": {},
   "outputs": [],
   "source": [
    "# 2. compute logerror_pred_median\n",
    "runs_pred_median = y_train.runs_scored.median()\n",
    "y_train['runs_pred_median'] = runs_pred_median\n",
    "y_validate['runs_pred_median'] = runs_pred_median\n",
    "\n",
    "runs_pred_median"
   ]
  },
  {
   "cell_type": "code",
   "execution_count": null,
   "id": "73055a81",
   "metadata": {},
   "outputs": [],
   "source": [
    "# 3. RMSE of logerror_pred_mean\n",
    "rmse_train = mean_squared_error(y_train.runs_scored,\n",
    "                                y_train.runs_pred_mean) ** .5\n",
    "rmse_validate = mean_squared_error(y_validate.runs_scored, y_validate.runs_pred_mean) ** (1/2)"
   ]
  },
  {
   "cell_type": "code",
   "execution_count": null,
   "id": "007b0fde",
   "metadata": {},
   "outputs": [],
   "source": [
    "print(\"RMSE using Mean\\nTrain/In-Sample: \", round(rmse_train, 2), \n",
    "      \"\\nValidate/Out-of-Sample: \", round(rmse_validate, 2))"
   ]
  },
  {
   "cell_type": "code",
   "execution_count": null,
   "id": "118ba98b",
   "metadata": {},
   "outputs": [],
   "source": [
    "# 4. RMSE of logerror_pred_median\n",
    "rmse_train = mean_squared_error(y_train.runs_scored, y_train.runs_pred_median) ** .5\n",
    "rmse_validate = mean_squared_error(y_validate.runs_scored, y_validate.runs_pred_median) ** .5\n",
    "print(\"RMSE using Median\\nTrain/In-Sample: \", round(rmse_train, 2), \n",
    "      \"\\nValidate/Out-of-Sample: \", round(rmse_validate, 2))"
   ]
  },
  {
   "cell_type": "code",
   "execution_count": null,
   "id": "50296bae",
   "metadata": {},
   "outputs": [],
   "source": [
    "# create the metric_df as a blank dataframe\n",
    "metric_df = pd.DataFrame()\n",
    "\n",
    "# make our first entry into the metric_df with median baseline\n",
    "metric_df = prepare.make_metric_df(y_train.runs_scored,\n",
    "                           y_train.runs_pred_median,\n",
    "                           'median_baseline',\n",
    "                          metric_df)\n"
   ]
  },
  {
   "cell_type": "code",
   "execution_count": null,
   "id": "20509572",
   "metadata": {},
   "outputs": [],
   "source": [
    "metric_df"
   ]
  },
  {
   "cell_type": "code",
   "execution_count": null,
   "id": "8e2fbf70",
   "metadata": {},
   "outputs": [],
   "source": [
    "# plot to visualize actual vs predicted. \n",
    "plt.hist(y_train.runs_scored, color='blue', alpha=.5, label=\"Actual Runs Scored\")\n",
    "plt.hist(y_train.runs_pred_mean, bins=1, color='red', alpha=.5, rwidth=100, label=\"Predicted Final Runs Scored - Mean\")\n",
    "plt.hist(y_train.runs_pred_median, bins=1, color='orange', alpha=.5, rwidth=100, label=\"Predicted Runs Scored - Median\")\n",
    "plt.xlabel(\"Final Runs Scored\")\n",
    "plt.ylabel(\"Number\")\n",
    "plt.legend()\n",
    "plt.show()"
   ]
  },
  {
   "cell_type": "markdown",
   "id": "e364c180",
   "metadata": {},
   "source": [
    "## Linear Regression (OLS)\n",
    "\n",
    "- Fit the model using X_train (scaled) and the labels from y_train.\n",
    "- Predict runs scored for games in training sample using our model (lm).\n",
    "- Evaluate using RMSE\n",
    "- Repeat predictions and evaluation for validation."
   ]
  },
  {
   "cell_type": "code",
   "execution_count": null,
   "id": "1e7cdd5f",
   "metadata": {},
   "outputs": [],
   "source": [
    "# create the model object\n",
    "lm = LinearRegression(normalize=True)"
   ]
  },
  {
   "cell_type": "code",
   "execution_count": null,
   "id": "058a20c0",
   "metadata": {},
   "outputs": [],
   "source": [
    "# Fit the model to our training data. We must specify the column in y_train, \n",
    "lm.fit(X_train_scaled, y_train.runs_scored)"
   ]
  },
  {
   "cell_type": "code",
   "execution_count": null,
   "id": "27d4ff09",
   "metadata": {},
   "outputs": [],
   "source": [
    "# Predict train\n",
    "y_train['runs_pred_lm'] = lm.predict(X_train_scaled)"
   ]
  },
  {
   "cell_type": "code",
   "execution_count": null,
   "id": "189200d2",
   "metadata": {},
   "outputs": [],
   "source": [
    "# evaluate: rmse\n",
    "rmse_train = mean_squared_error(y_train.runs_scored, y_train.runs_pred_lm) ** (1/2)\n",
    "\n",
    "# predict validate\n",
    "y_validate['runs_pred_lm'] = lm.predict(X_validate_scaled)\n",
    "\n",
    "# evaluate: rmse\n",
    "rmse_validate = mean_squared_error(y_validate.runs_scored, y_validate.runs_pred_lm) ** (1/2)\n",
    "\n",
    "print(\"RMSE for OLS using LinearRegression\\nTraining/In-Sample: \", rmse_train, \n",
    "      \"\\nValidation/Out-of-Sample: \", rmse_validate)"
   ]
  },
  {
   "cell_type": "code",
   "execution_count": null,
   "id": "688d7cde",
   "metadata": {},
   "outputs": [],
   "source": [
    "metric_df = metric_df.append({\n",
    "    'model': 'OLS Regressor', \n",
    "    'RMSE_validate': rmse_validate,\n",
    "    'r^2_validate': explained_variance_score(y_validate.runs_scored, y_validate.runs_pred_lm)}, ignore_index=True)"
   ]
  },
  {
   "cell_type": "code",
   "execution_count": null,
   "id": "1ef7b047",
   "metadata": {},
   "outputs": [],
   "source": [
    "metric_df"
   ]
  },
  {
   "cell_type": "markdown",
   "id": "2185203f",
   "metadata": {},
   "source": [
    "### LassoLars\n",
    "\n",
    "- Fit the model using X_train_scaled and the labels from y_train.\n",
    "- Predict final runs scored in training sample using our model (lars).\n",
    "- Evaluate using RMSE\n",
    "- Repeat predictions and evaluation for validation."
   ]
  },
  {
   "cell_type": "code",
   "execution_count": null,
   "id": "7f91c804",
   "metadata": {},
   "outputs": [],
   "source": [
    "# create the model object\n",
    "lars = LassoLars(alpha=1)\n",
    "\n",
    "# fit the model to our training data. We must specify the column in y_train, \n",
    "# since we have converted it to a dataframe from a series!\n",
    "lars.fit(X_train_scaled, y_train.runs_scored)\n",
    "\n",
    "# predict train\n",
    "y_train['runs_pred_lars'] = lars.predict(X_train_scaled)\n",
    "\n",
    "# evaluate: rmse\n",
    "rmse_train = mean_squared_error(y_train.runs_scored, y_train.runs_pred_lars) ** (1/2)\n",
    "\n",
    "# predict validate\n",
    "y_validate['runs_pred_lars'] = lars.predict(X_validate_scaled)\n",
    "\n",
    "# evaluate: rmse\n",
    "rmse_validate = mean_squared_error(y_validate.runs_scored, y_validate.runs_pred_lars) ** (1/2)\n",
    "\n",
    "print(\"RMSE for Lasso + Lars\\nTraining/In-Sample: \", rmse_train, \n",
    "      \"\\nValidation/Out-of-Sample: \", rmse_validate)"
   ]
  },
  {
   "cell_type": "code",
   "execution_count": null,
   "id": "c37c88a2",
   "metadata": {},
   "outputs": [],
   "source": [
    "metric_df = prepare.make_metric_df(y_validate.runs_scored,\n",
    "               y_validate.runs_pred_lars,\n",
    "               'lasso_alpha_1',\n",
    "               metric_df)"
   ]
  },
  {
   "cell_type": "code",
   "execution_count": null,
   "id": "88c973b0",
   "metadata": {},
   "outputs": [],
   "source": [
    "metric_df"
   ]
  },
  {
   "cell_type": "markdown",
   "id": "f40d1d24",
   "metadata": {},
   "source": [
    "### TweedieRegressor (GLM)\n",
    "\n",
    "- Fit the model using X_train_scaled and the labels from y_train.\n",
    "- Predict runs scored for games in training sample using our model (glm).\n",
    "- Evaluate using RMSE\n",
    "- Repeat predictions and evaluation for validation.\n",
    "- Compare RMSE train vs. validation."
   ]
  },
  {
   "cell_type": "code",
   "execution_count": null,
   "id": "f4769fc9",
   "metadata": {},
   "outputs": [],
   "source": [
    "# create the model object\n",
    "lars = LassoLars(alpha=4)\n",
    "\n",
    "# fit the model to our training data. We must specify the column in y_train, \n",
    "# since we have converted it to a dataframe from a series!\n",
    "lars.fit(X_train, y_train.runs_scored)\n",
    "\n",
    "# predict train\n",
    "y_train['runs_pred_lars'] = lars.predict(X_train_scaled)\n",
    "\n",
    "# evaluate: rmse\n",
    "rmse_train = mean_squared_error(y_train.runs_scored, y_train.runs_pred_lars) ** (1/2)\n",
    "\n",
    "# predict validate\n",
    "y_validate['runs_pred_lars'] = lars.predict(X_validate_scaled)\n",
    "\n",
    "# evaluate: rmse\n",
    "rmse_validate = mean_squared_error(y_validate.runs_scored, y_validate.runs_pred_lars) ** (1/2)\n",
    "\n",
    "print(\"RMSE for Lasso + Lars\\nTraining/In-Sample: \", rmse_train, \n",
    "      \"\\nValidation/Out-of-Sample: \", rmse_validate)"
   ]
  },
  {
   "cell_type": "code",
   "execution_count": null,
   "id": "beba2867",
   "metadata": {},
   "outputs": [],
   "source": [
    "metric_df = prepare.make_metric_df(y_validate.runs_scored,\n",
    "               y_validate.runs_pred_lars,\n",
    "               'lasso_alpha_4',\n",
    "               metric_df)\n",
    "metric_df"
   ]
  },
  {
   "cell_type": "markdown",
   "id": "b065f27f",
   "metadata": {},
   "source": [
    "### Polynomial Regression\n",
    "\n",
    "Using sklearn.preprocessing.PolynommialFeatures() + sklearn.linear_model.LinearRegression()\n",
    "\n",
    "- Create the new features, based on value indicated for degree for train, validate & test.\n",
    "- Fit the Linear Regression model\n",
    "- Predict using the transformed (squared or cubed, e.g.) features\n",
    "- Evaluate using RMSE\n",
    "- Repeat predictions and evaluation for validation.\n",
    "- Compare RMSE train vs. validation. Overfitting?"
   ]
  },
  {
   "cell_type": "markdown",
   "id": "bffe4063",
   "metadata": {},
   "source": [
    "### Polynomial Features"
   ]
  },
  {
   "cell_type": "code",
   "execution_count": null,
   "id": "9e923696",
   "metadata": {},
   "outputs": [],
   "source": [
    "# make the polynomial features to get a new set of features\n",
    "pf = PolynomialFeatures(degree=2)\n",
    "\n",
    "# fit and transform X_train_scaled\n",
    "X_train_degree2 = pf.fit_transform(X_train_scaled)\n",
    "\n",
    "# transform X_validate_scaled & X_test_scaled\n",
    "X_validate_degree2 = pf.transform(X_validate_scaled)\n",
    "X_test_degree2 =  pf.transform(X_test_scaled)"
   ]
  },
  {
   "cell_type": "markdown",
   "id": "8ef7ac48",
   "metadata": {},
   "source": [
    "### Linear Regression\n"
   ]
  },
  {
   "cell_type": "code",
   "execution_count": null,
   "id": "2b407fcd",
   "metadata": {},
   "outputs": [],
   "source": [
    "# create the model object\n",
    "lm2 = LinearRegression(normalize=True)\n",
    "\n",
    "# fit the model to our training data. We must specify the column in y_train, \n",
    "# since we have converted it to a dataframe from a series! \n",
    "lm2.fit(X_train_degree2, y_train.runs_scored)\n",
    "\n",
    "# predict train\n",
    "y_train['runs_pred_lm2'] = lm2.predict(X_train_degree2)\n",
    "\n",
    "# evaluate: rmse\n",
    "rmse_train = mean_squared_error(y_train.runs_scored, y_train.runs_pred_lm2) ** (1/2)\n",
    "\n",
    "# predict validate\n",
    "y_validate['runs_pred_lm2'] = lm2.predict(X_validate_degree2)\n",
    "\n",
    "# evaluate: rmse\n",
    "rmse_validate = mean_squared_error(y_validate.runs_scored, y_validate.runs_pred_lm2) ** 0.5\n",
    "\n",
    "print(\"RMSE for Polynomial Model, degrees=2\\nTraining/In-Sample: \", rmse_train, \n",
    "      \"\\nValidation/Out-of-Sample: \", rmse_validate)\n"
   ]
  },
  {
   "cell_type": "code",
   "execution_count": null,
   "id": "96ba0cb5",
   "metadata": {},
   "outputs": [],
   "source": [
    "metric_df = prepare.make_metric_df(y_validate.runs_scored,\n",
    "               y_validate.runs_pred_lm2,\n",
    "               'quadratic',\n",
    "               metric_df)\n",
    "metric_df\n"
   ]
  },
  {
   "cell_type": "markdown",
   "id": "9d858a65",
   "metadata": {},
   "source": [
    "### Trying the same model with a degree of 3 to compare performance\n"
   ]
  },
  {
   "cell_type": "code",
   "execution_count": null,
   "id": "79b88378",
   "metadata": {},
   "outputs": [],
   "source": [
    "# make the polynomial features to get a new set of features\n",
    "pf = PolynomialFeatures(degree=3)\n",
    "\n",
    "# fit and transform X_train_scaled\n",
    "X_train_degree3 = pf.fit_transform(X_train_scaled)\n",
    "\n",
    "# transform X_validate_scaled & X_test_scaled\n",
    "X_validate_degree3 = pf.transform(X_validate_scaled)\n",
    "X_test_degree3 =  pf.transform(X_test_scaled)"
   ]
  },
  {
   "cell_type": "code",
   "execution_count": null,
   "id": "4ac42f87",
   "metadata": {},
   "outputs": [],
   "source": [
    "# create the model object\n",
    "lm3 = LinearRegression(normalize=True)\n",
    "\n",
    "# fit the model to our training data. We must specify the column in y_train, \n",
    "# since we have converted it to a dataframe from a series! \n",
    "lm3.fit(X_train_degree3, y_train.runs_scored)\n",
    "\n",
    "# predict train\n",
    "y_train['runs_pred_lm3'] = lm3.predict(X_train_degree3)\n",
    "\n",
    "# evaluate: rmse\n",
    "rmse_train = mean_squared_error(y_train.runs_scored, y_train.runs_pred_lm3) ** (1/2)\n",
    "\n",
    "# predict validate\n",
    "y_validate['runs_pred_lm3'] = lm3.predict(X_validate_degree3)\n",
    "\n",
    "# evaluate: rmse\n",
    "rmse_validate = mean_squared_error(y_validate.runs_scored, y_validate.runs_pred_lm3) ** 0.5\n",
    "\n",
    "print(\"RMSE for Polynomial Model, degrees=3\\nTraining/In-Sample: \", rmse_train, \n",
    "      \"\\nValidation/Out-of-Sample: \", rmse_validate)"
   ]
  },
  {
   "cell_type": "code",
   "execution_count": null,
   "id": "512be9df",
   "metadata": {},
   "outputs": [],
   "source": [
    "metric_df = prepare.make_metric_df(y_validate.runs_scored,\n",
    "               y_validate.runs_pred_lm3,\n",
    "               '3degree_quadratic',\n",
    "               metric_df)\n",
    "metric_df"
   ]
  },
  {
   "cell_type": "code",
   "execution_count": null,
   "id": "bf50ebde",
   "metadata": {},
   "outputs": [],
   "source": [
    "metric_df.style.format(\n",
    "                formatter={('RMSE_validate', 'r^2_validate'): \"{:.5f}\",\n",
    "                          })"
   ]
  },
  {
   "cell_type": "markdown",
   "id": "d6b05b51",
   "metadata": {},
   "source": [
    "## Comparing Models Visually\n",
    "\n",
    "Plotting actual vs predicted values"
   ]
  },
  {
   "cell_type": "code",
   "execution_count": null,
   "id": "239002a4",
   "metadata": {},
   "outputs": [],
   "source": [
    "# y_validate.head()\n",
    "plt.figure(figsize=(15,7))\n",
    "plt.plot(y_validate.runs_scored, y_validate.runs_pred_mean, alpha=.5, color=\"gray\", label='_nolegend_')\n",
    "plt.annotate(\"Baseline: Predict Using Mean\", (17.5, 5))\n",
    "plt.plot(y_validate.runs_scored, y_validate.runs_scored, alpha=.5, color=\"blue\", label='_nolegend_')\n",
    "plt.annotate(\"The Ideal Line: Predicted = Actual\", (.5, 1), rotation=25)\n",
    "\n",
    "plt.scatter(y_validate.runs_scored.sample(n=1000), y_validate.runs_pred_lm.sample(n=1000), \n",
    "            alpha=.5, color=\"blue\", s=100, label=\"Model: LinearRegression\")\n",
    "#plt.scatter(y_validate.runs_scored.sample(n=1000), y_validate.runs_pred_glm.sample(n=1000), \n",
    "            #alpha=.5, color=\"yellow\", s=100, label=\"Model: TweedieRegressor\")\n",
    "plt.scatter(y_validate.runs_scored.sample(n=1000), y_validate.runs_pred_lm2.sample(n=1000), \n",
    "            alpha=.5, color=\"orange\", s=100, label=\"Model 2nd degree Polynomial\")\n",
    "#plt.scatter(y_validate.runs_scored.sample(n=1000), y_validate.runs_pred_lm3.sample(n=1000), \n",
    "           # alpha=.5, color=\"orange\", s=100, label=\"Model 3rd degree Polynomial\")\n",
    "plt.legend()\n",
    "plt.xlabel(\"Actual Runs Scored\")\n",
    "plt.ylabel(\"Predicted Runs Scored\")\n",
    "plt.title(\"Predicted vs Actual Runs Scored Comparison\")\n",
    "plt.show()"
   ]
  },
  {
   "cell_type": "code",
   "execution_count": null,
   "id": "9e1a9be9",
   "metadata": {},
   "outputs": [],
   "source": [
    "# plot tgo visualize actual vs predicted. \n",
    "plt.figure(figsize=(8,6))\n",
    "plt.hist(y_validate.runs_scored, color='blue', alpha=.5, label=\"Actual Runs Scored\")\n",
    "plt.hist(y_validate.runs_pred_lm, color='green', alpha=.5, label=\"Model: LinearRegression\")\n",
    "#plt.hist(y_validate.runs_pred_glm, color='yellow', alpha=.5, label=\"Model: TweedieRegressor\")\n",
    "plt.hist(y_validate.runs_pred_lm2, color='red', alpha=.5, label=\"Model 2nd degree Polynomial\")\n",
    "#plt.hist(y_validate.runs_pred_lm3, color='orange', alpha=.5, label=\"Model 3rd degree Polynomial\")\n",
    "plt.xlabel(\"Final Runs Scored\")\n",
    "plt.ylabel(\"Number of Games\")\n",
    "plt.title(\"Distribution of Runs Scored vs Distributions of Predicted Runs Scored for the Top Model\")\n",
    "plt.legend()\n",
    "plt.show()"
   ]
  },
  {
   "cell_type": "markdown",
   "id": "1508710f",
   "metadata": {},
   "source": [
    "The models vs the actual for the number of runs scored by a team somewhat align, but look to miss out on predicting the lower and higher ends of runs scored in games."
   ]
  },
  {
   "cell_type": "markdown",
   "id": "ad75d441",
   "metadata": {},
   "source": [
    "### After comparing different models, choosing Linear Regressor as the best model to use on test."
   ]
  },
  {
   "cell_type": "markdown",
   "id": "3c78c819",
   "metadata": {},
   "source": [
    "## Modeling Takeaways:\n",
    "\n",
    "- Linear Regression Model performed the best on validate data by having the lowest RMSE and the highest R^2 of 38%.\n",
    "- I will choose the Linear Regression Model to run on out of sample data."
   ]
  },
  {
   "cell_type": "markdown",
   "id": "fe2633f1",
   "metadata": {},
   "source": [
    "## Running the Best Model on Test Sample\n",
    "\n",
    "### Model Selection & Out-of-Sample Evaluation\n",
    "\n",
    "Model selected: Linear Regression"
   ]
  },
  {
   "cell_type": "code",
   "execution_count": null,
   "id": "fb7d93f2",
   "metadata": {},
   "outputs": [],
   "source": [
    "y_test = pd.DataFrame(y_test)\n",
    "\n",
    "# predict test\n",
    "y_test['runs_pred_lm'] = lm.predict(X_test_scaled)\n",
    "\n",
    "# evaluate: rmse\n",
    "rmse_train = mean_squared_error(y_train.runs_scored, y_train.runs_pred_lm) ** (1/2)\n",
    "\n",
    "# evaluate: rmse\n",
    "rmse_validate = mean_squared_error(y_validate.runs_scored, y_validate.runs_pred_lm) ** (1/2)\n",
    "\n",
    "# evaluate: rmse\n",
    "rmse_test = mean_squared_error(y_test.runs_scored, y_test.runs_pred_lm) ** 0.5\n",
    "\n",
    "\n",
    "print(\"RMSE for OLS using Linear Regression Model\\nTraining/In-Sample: \", rmse_train, \n",
    "      \"\\nValidation/Out-of-Sample: \", rmse_validate,\n",
    "     \"\\nTest/Out-of-Sample: \", rmse_test)"
   ]
  },
  {
   "cell_type": "code",
   "execution_count": null,
   "id": "8cd1b349",
   "metadata": {},
   "outputs": [],
   "source": [
    "metric_df = prepare.make_metric_df(y_test.runs_scored,\n",
    "               y_test.runs_pred_lm,\n",
    "               'TEST_OLS',\n",
    "               metric_df)"
   ]
  },
  {
   "cell_type": "code",
   "execution_count": null,
   "id": "8254a944",
   "metadata": {},
   "outputs": [],
   "source": [
    "metric_df.style.format(\n",
    "                formatter={('RMSE_validate', 'r^2_validate'): \"{:.2f}\",\n",
    "                          })"
   ]
  },
  {
   "cell_type": "markdown",
   "id": "6d88ea39",
   "metadata": {},
   "source": [
    "### Best Model Final Run Takeaways\n",
    "\n",
    "- The Linear Regression model performed well on out of sample (test) data with an explained variance score of 35% and came up with the lowest RMSE of 2.43.\n",
    "- The Linear Regression Model was chosen for the final run on out of sample data.\n",
    "- Features used for this model include rolling averages for the following baseball hitting stats:\n",
    "\n",
    "    - 'roll_RBI' - rolling average of runs batted in in the past 3 games per team\n",
    "    - 'roll_hits' - rolling average of hits in the past 3 games per team\n",
    "    - 'roll_plate_app' - rolling average of plate appearances in the past 3 games per team\n",
    "    - 'roll_HR' - rolling average of home runs in the past 3 games per team\n",
    "\n",
    "- Our model is able to predict the number of runs scored in a baseball game better than the baseline.\n",
    "\n"
   ]
  },
  {
   "cell_type": "markdown",
   "id": "c3ad0f43",
   "metadata": {},
   "source": [
    "# Conclusion\n",
    "The game of baseball, which has been played since the 1800's in the United States, has long been termed \"America's pastime\". With so many years being played and with every advantage being sought to beat the other team, baseball data has long been gathered and studied to try to find an angle to help a team win. Collecting many offensive and defensive stats, such as number of hits or homeruns in a game or team's average batting average or number of walks or strikeouts, gives an aspiring data scientist many numbers and options to try to create predictive models.\n",
    "\n",
    "In this project, I sought out to discover the factors that drive a Major League Baseball game win using one season's complete hitting data for all 30 MLB teams. Combining every team's game logs for every game allowed me to collect over 4800 rows of data (30 teams X 162 games). With this data I was able to create a machine learning model using classification algorithms to predict whether a team would win or lose a game using a team's previous 3 games average hitting statistics. I was also able to create a regression model to predict the number of runs a team would have in a game using the team's previous 3 games average hitting statistics.\n",
    "\n"
   ]
  },
  {
   "cell_type": "markdown",
   "id": "04a3942b",
   "metadata": {},
   "source": [
    "## Key Takeaways:\n",
    "- Our model was able to predict a baseball games outcome with an accuracy of 58% beating the baseline of 50%.\n",
    " \n",
    "- Our exploration and modeling indicate that the best predictor of a win is the number of hits, runs, homeruns, plate appearances, doubles, RBIs and walks which squares up with what one would expect of a winning team.\n",
    "\n",
    "- Our model that was predicting the number of runs a baseball team scored also performed better than the baseline accounting for a 35% improvement over the baseline error.\n",
    "\n",
    "- Our exploration and modeling indicate the best predictor of number of runs scored is the number of RBIs, number of hits, plate appearances, and home runs.\n",
    "\n",
    "- While not a significant advantage over the baseline, these models may help give a baseball club, a person or group trying their hands at books, or simply a baseball fan an edge in trying to predict the outcome of a game they follow."
   ]
  },
  {
   "cell_type": "markdown",
   "id": "231ccb53",
   "metadata": {},
   "source": [
    "### Technical Takeaways:\n",
    "- Created a machine learning model using classification algorithms to predict whether a team would win or lose a game\n",
    "- To predict a future outcome, I used a rolling 3 game average per team to use for modeling.\n",
    "- Used all 30 Major League Baseball team's hitting game logs for the 2021 season\n",
    "- The Random Forest Model was chosen as the best model to predict win or lose outcomes\n",
    "- The top features used in our model included the 3 game rolling averages per team of:\n",
    "\n",
    "    - RBIs\n",
    "    - Number of runs\n",
    "    - Number of hits\n",
    "    - Number of homeruns\n",
    "    - Number of plate appearances\n",
    "    - Number of doubles\n",
    "    - Number of walks\n",
    "    \n",
    "- Our model was able to beat the baseline and predict with an accuracy of 58% on out of sample data.\n",
    "\n",
    "- Created a linear regression model to predict the number of runs in a game using a 3 game rolling average per team.\n",
    "- The Ordinary Least Squares Linear Regression model proved to run the best on validation data and was chosen as the best model to predict the number of runs in a game.\n",
    "- The top features used in our model included the 3 game rolling averages of previously played games for the following baseball hitting stats:\n",
    "\n",
    "    - 'roll_RBI' - rolling average of runs batted in in the past 3 games per team\n",
    "    - 'roll_hits' - rolling average of hits in the past 3 games per team\n",
    "    - 'roll_plate_app' - rolling average of plate appearances in the past 3 games per team\n",
    "    - 'roll_HR' - rolling average of home runs in the past 3 games per team\n",
    "- The Linear Regression model performed well on out of sample (test) data with an explained variance score of 35% and came up with the lowest RMSE of 2.43.\n",
    "\n",
    "- Our model is able to predict the number of runs scored in a baseball game better than the baseline."
   ]
  },
  {
   "cell_type": "markdown",
   "id": "d4450f30",
   "metadata": {},
   "source": [
    "## Next Steps:\n",
    "- With more time, I would like to continue trying out other models using new features and changing the hyperparameters to see if we can beat our forecasting performance. I would also like to create a time series model to predict the future record of a team and explore and model predictions for teams that made the playoffs. Ideally, I would like to incorporate pitching and fielding data to our data set to have more features to predict with and include more seasons of games played.\n",
    "\n"
   ]
  },
  {
   "cell_type": "markdown",
   "id": "6cef761a",
   "metadata": {},
   "source": [
    "# update "
   ]
  },
  {
   "cell_type": "code",
   "execution_count": null,
   "id": "4abe9f27",
   "metadata": {},
   "outputs": [],
   "source": []
  }
 ],
 "metadata": {
  "kernelspec": {
   "display_name": "Python 3 (ipykernel)",
   "language": "python",
   "name": "python3"
  },
  "language_info": {
   "codemirror_mode": {
    "name": "ipython",
    "version": 3
   },
   "file_extension": ".py",
   "mimetype": "text/x-python",
   "name": "python",
   "nbconvert_exporter": "python",
   "pygments_lexer": "ipython3",
   "version": "3.9.7"
  }
 },
 "nbformat": 4,
 "nbformat_minor": 5
}
